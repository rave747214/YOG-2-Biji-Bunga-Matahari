{
  "nbformat": 4,
  "nbformat_minor": 0,
  "metadata": {
    "colab": {
      "name": "Biji Bunga Matahari.ipynb",
      "provenance": [],
      "collapsed_sections": [],
      "toc_visible": true
    },
    "kernelspec": {
      "name": "python3",
      "display_name": "Python 3"
    }
  },
  "cells": [
    {
      "cell_type": "markdown",
      "metadata": {
        "id": "wVlmFdHxbjHt",
        "colab_type": "text"
      },
      "source": [
        "# **Predicting Online Shoppers Purchasing Intention**"
      ]
    },
    {
      "cell_type": "markdown",
      "metadata": {
        "id": "nfU06_JtnLgq",
        "colab_type": "text"
      },
      "source": [
        "by:\\\n",
        "Natih Bernan\\\n",
        "Raden Aurelius Andhika Viadinugraha\\\n",
        "Yusuf Fajar Mukti"
      ]
    },
    {
      "cell_type": "markdown",
      "metadata": {
        "id": "_uuE2K1Gn6H1",
        "colab_type": "text"
      },
      "source": [
        "In this work, we are trying to classify whether an online shopper would purchase a product or not, based on his/her behaviour on the website. We also want to know what are the most important factors that make customers decide to buy the product, so we can provide suggestions for e-commerce companies to increase the number of purchasing customer.\\\n",
        "\\\n",
        "The data used for this analysis is collected from https://www.kaggle.com/roshansharma/online-shoppers-intention\n"
      ]
    },
    {
      "cell_type": "markdown",
      "metadata": {
        "id": "whnhLlJvyviQ",
        "colab_type": "text"
      },
      "source": [
        "## Data Importing"
      ]
    },
    {
      "cell_type": "markdown",
      "metadata": {
        "id": "eOVkTa4VexfL",
        "colab_type": "text"
      },
      "source": [
        "First, we will import the data to the python environment using pandas"
      ]
    },
    {
      "cell_type": "code",
      "metadata": {
        "id": "-gptRBc9rz_s",
        "colab_type": "code",
        "colab": {}
      },
      "source": [
        "# Importing libraries\n",
        "\n",
        "import numpy as np\n",
        "import pandas as pd\n",
        "import matplotlib.pyplot as plt"
      ],
      "execution_count": 0,
      "outputs": []
    },
    {
      "cell_type": "code",
      "metadata": {
        "id": "a6Pb0aVrv5WR",
        "colab_type": "code",
        "outputId": "c2768192-9f70-4061-b520-a73fe6a5cd65",
        "colab": {
          "resources": {
            "http://localhost:8080/nbextensions/google.colab/files.js": {
              "data": "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",
              "ok": true,
              "headers": [
                [
                  "content-type",
                  "application/javascript"
                ]
              ],
              "status": 200,
              "status_text": ""
            }
          },
          "base_uri": "https://localhost:8080/",
          "height": 75
        }
      },
      "source": [
        "# Uploading the data\n",
        "\n",
        "from google.colab import files\n",
        "uploaded = files.upload()"
      ],
      "execution_count": 0,
      "outputs": [
        {
          "output_type": "display_data",
          "data": {
            "text/html": [
              "\n",
              "     <input type=\"file\" id=\"files-1c56c1d6-7fd6-4110-a09d-2b8ccd520e79\" name=\"files[]\" multiple disabled />\n",
              "     <output id=\"result-1c56c1d6-7fd6-4110-a09d-2b8ccd520e79\">\n",
              "      Upload widget is only available when the cell has been executed in the\n",
              "      current browser session. Please rerun this cell to enable.\n",
              "      </output>\n",
              "      <script src=\"/nbextensions/google.colab/files.js\"></script> "
            ],
            "text/plain": [
              "<IPython.core.display.HTML object>"
            ]
          },
          "metadata": {
            "tags": []
          }
        },
        {
          "output_type": "stream",
          "text": [
            "Saving online_shoppers_intention.csv to online_shoppers_intention (4).csv\n"
          ],
          "name": "stdout"
        }
      ]
    },
    {
      "cell_type": "code",
      "metadata": {
        "id": "WcOr2l99xghD",
        "colab_type": "code",
        "colab": {}
      },
      "source": [
        "# Read the data\n",
        "\n",
        "df=pd.read_csv(\"online_shoppers_intention.csv\")"
      ],
      "execution_count": 0,
      "outputs": []
    },
    {
      "cell_type": "markdown",
      "metadata": {
        "id": "sIyJfFiQe8sW",
        "colab_type": "text"
      },
      "source": [
        "After the data is imported, we will check the first 5 rows of the data"
      ]
    },
    {
      "cell_type": "code",
      "metadata": {
        "id": "MdSbsLmtyOCf",
        "colab_type": "code",
        "outputId": "5cfb8d64-1b6b-4f24-c580-cef43dcce59d",
        "colab": {
          "base_uri": "https://localhost:8080/",
          "height": 215
        }
      },
      "source": [
        "# Show top 5 rows\n",
        "\n",
        "df.head()"
      ],
      "execution_count": 0,
      "outputs": [
        {
          "output_type": "execute_result",
          "data": {
            "text/html": [
              "<div>\n",
              "<style scoped>\n",
              "    .dataframe tbody tr th:only-of-type {\n",
              "        vertical-align: middle;\n",
              "    }\n",
              "\n",
              "    .dataframe tbody tr th {\n",
              "        vertical-align: top;\n",
              "    }\n",
              "\n",
              "    .dataframe thead th {\n",
              "        text-align: right;\n",
              "    }\n",
              "</style>\n",
              "<table border=\"1\" class=\"dataframe\">\n",
              "  <thead>\n",
              "    <tr style=\"text-align: right;\">\n",
              "      <th></th>\n",
              "      <th>Administrative</th>\n",
              "      <th>Administrative_Duration</th>\n",
              "      <th>Informational</th>\n",
              "      <th>Informational_Duration</th>\n",
              "      <th>ProductRelated</th>\n",
              "      <th>ProductRelated_Duration</th>\n",
              "      <th>BounceRates</th>\n",
              "      <th>ExitRates</th>\n",
              "      <th>PageValues</th>\n",
              "      <th>SpecialDay</th>\n",
              "      <th>Month</th>\n",
              "      <th>OperatingSystems</th>\n",
              "      <th>Browser</th>\n",
              "      <th>Region</th>\n",
              "      <th>TrafficType</th>\n",
              "      <th>VisitorType</th>\n",
              "      <th>Weekend</th>\n",
              "      <th>Revenue</th>\n",
              "    </tr>\n",
              "  </thead>\n",
              "  <tbody>\n",
              "    <tr>\n",
              "      <th>0</th>\n",
              "      <td>0.0</td>\n",
              "      <td>0.0</td>\n",
              "      <td>0.0</td>\n",
              "      <td>0.0</td>\n",
              "      <td>1.0</td>\n",
              "      <td>0.000000</td>\n",
              "      <td>0.20</td>\n",
              "      <td>0.20</td>\n",
              "      <td>0.0</td>\n",
              "      <td>0.0</td>\n",
              "      <td>Feb</td>\n",
              "      <td>1</td>\n",
              "      <td>1</td>\n",
              "      <td>1</td>\n",
              "      <td>1</td>\n",
              "      <td>Returning_Visitor</td>\n",
              "      <td>False</td>\n",
              "      <td>False</td>\n",
              "    </tr>\n",
              "    <tr>\n",
              "      <th>1</th>\n",
              "      <td>0.0</td>\n",
              "      <td>0.0</td>\n",
              "      <td>0.0</td>\n",
              "      <td>0.0</td>\n",
              "      <td>2.0</td>\n",
              "      <td>64.000000</td>\n",
              "      <td>0.00</td>\n",
              "      <td>0.10</td>\n",
              "      <td>0.0</td>\n",
              "      <td>0.0</td>\n",
              "      <td>Feb</td>\n",
              "      <td>2</td>\n",
              "      <td>2</td>\n",
              "      <td>1</td>\n",
              "      <td>2</td>\n",
              "      <td>Returning_Visitor</td>\n",
              "      <td>False</td>\n",
              "      <td>False</td>\n",
              "    </tr>\n",
              "    <tr>\n",
              "      <th>2</th>\n",
              "      <td>0.0</td>\n",
              "      <td>-1.0</td>\n",
              "      <td>0.0</td>\n",
              "      <td>-1.0</td>\n",
              "      <td>1.0</td>\n",
              "      <td>-1.000000</td>\n",
              "      <td>0.20</td>\n",
              "      <td>0.20</td>\n",
              "      <td>0.0</td>\n",
              "      <td>0.0</td>\n",
              "      <td>Feb</td>\n",
              "      <td>4</td>\n",
              "      <td>1</td>\n",
              "      <td>9</td>\n",
              "      <td>3</td>\n",
              "      <td>Returning_Visitor</td>\n",
              "      <td>False</td>\n",
              "      <td>False</td>\n",
              "    </tr>\n",
              "    <tr>\n",
              "      <th>3</th>\n",
              "      <td>0.0</td>\n",
              "      <td>0.0</td>\n",
              "      <td>0.0</td>\n",
              "      <td>0.0</td>\n",
              "      <td>2.0</td>\n",
              "      <td>2.666667</td>\n",
              "      <td>0.05</td>\n",
              "      <td>0.14</td>\n",
              "      <td>0.0</td>\n",
              "      <td>0.0</td>\n",
              "      <td>Feb</td>\n",
              "      <td>3</td>\n",
              "      <td>2</td>\n",
              "      <td>2</td>\n",
              "      <td>4</td>\n",
              "      <td>Returning_Visitor</td>\n",
              "      <td>False</td>\n",
              "      <td>False</td>\n",
              "    </tr>\n",
              "    <tr>\n",
              "      <th>4</th>\n",
              "      <td>0.0</td>\n",
              "      <td>0.0</td>\n",
              "      <td>0.0</td>\n",
              "      <td>0.0</td>\n",
              "      <td>10.0</td>\n",
              "      <td>627.500000</td>\n",
              "      <td>0.02</td>\n",
              "      <td>0.05</td>\n",
              "      <td>0.0</td>\n",
              "      <td>0.0</td>\n",
              "      <td>Feb</td>\n",
              "      <td>3</td>\n",
              "      <td>3</td>\n",
              "      <td>1</td>\n",
              "      <td>4</td>\n",
              "      <td>Returning_Visitor</td>\n",
              "      <td>True</td>\n",
              "      <td>False</td>\n",
              "    </tr>\n",
              "  </tbody>\n",
              "</table>\n",
              "</div>"
            ],
            "text/plain": [
              "   Administrative  Administrative_Duration  ...  Weekend  Revenue\n",
              "0             0.0                      0.0  ...    False    False\n",
              "1             0.0                      0.0  ...    False    False\n",
              "2             0.0                     -1.0  ...    False    False\n",
              "3             0.0                      0.0  ...    False    False\n",
              "4             0.0                      0.0  ...     True    False\n",
              "\n",
              "[5 rows x 18 columns]"
            ]
          },
          "metadata": {
            "tags": []
          },
          "execution_count": 38
        }
      ]
    },
    {
      "cell_type": "markdown",
      "metadata": {
        "id": "k3qSdo8SfDfh",
        "colab_type": "text"
      },
      "source": [
        "Next, we will show the descriptive statistics of the data"
      ]
    },
    {
      "cell_type": "code",
      "metadata": {
        "id": "NrwyYUpSFfRd",
        "colab_type": "code",
        "outputId": "7a870417-d0a5-4059-9e53-ac191d3a7bc6",
        "colab": {
          "base_uri": "https://localhost:8080/",
          "height": 304
        }
      },
      "source": [
        "# Show descriptive statistics for numeric features\n",
        "\n",
        "df.describe()"
      ],
      "execution_count": 0,
      "outputs": [
        {
          "output_type": "execute_result",
          "data": {
            "text/html": [
              "<div>\n",
              "<style scoped>\n",
              "    .dataframe tbody tr th:only-of-type {\n",
              "        vertical-align: middle;\n",
              "    }\n",
              "\n",
              "    .dataframe tbody tr th {\n",
              "        vertical-align: top;\n",
              "    }\n",
              "\n",
              "    .dataframe thead th {\n",
              "        text-align: right;\n",
              "    }\n",
              "</style>\n",
              "<table border=\"1\" class=\"dataframe\">\n",
              "  <thead>\n",
              "    <tr style=\"text-align: right;\">\n",
              "      <th></th>\n",
              "      <th>Administrative</th>\n",
              "      <th>Administrative_Duration</th>\n",
              "      <th>Informational</th>\n",
              "      <th>Informational_Duration</th>\n",
              "      <th>ProductRelated</th>\n",
              "      <th>ProductRelated_Duration</th>\n",
              "      <th>BounceRates</th>\n",
              "      <th>ExitRates</th>\n",
              "      <th>PageValues</th>\n",
              "      <th>SpecialDay</th>\n",
              "      <th>OperatingSystems</th>\n",
              "      <th>Browser</th>\n",
              "      <th>Region</th>\n",
              "      <th>TrafficType</th>\n",
              "    </tr>\n",
              "  </thead>\n",
              "  <tbody>\n",
              "    <tr>\n",
              "      <th>count</th>\n",
              "      <td>12316.000000</td>\n",
              "      <td>12316.000000</td>\n",
              "      <td>12316.000000</td>\n",
              "      <td>12316.000000</td>\n",
              "      <td>12316.000000</td>\n",
              "      <td>12316.000000</td>\n",
              "      <td>12316.000000</td>\n",
              "      <td>12316.000000</td>\n",
              "      <td>12330.000000</td>\n",
              "      <td>12330.000000</td>\n",
              "      <td>12330.000000</td>\n",
              "      <td>12330.000000</td>\n",
              "      <td>12330.000000</td>\n",
              "      <td>12330.000000</td>\n",
              "    </tr>\n",
              "    <tr>\n",
              "      <th>mean</th>\n",
              "      <td>2.317798</td>\n",
              "      <td>80.906176</td>\n",
              "      <td>0.503979</td>\n",
              "      <td>34.506387</td>\n",
              "      <td>31.763884</td>\n",
              "      <td>1196.037057</td>\n",
              "      <td>0.022152</td>\n",
              "      <td>0.043003</td>\n",
              "      <td>5.889258</td>\n",
              "      <td>0.061427</td>\n",
              "      <td>2.124006</td>\n",
              "      <td>2.357097</td>\n",
              "      <td>3.147364</td>\n",
              "      <td>4.069586</td>\n",
              "    </tr>\n",
              "    <tr>\n",
              "      <th>std</th>\n",
              "      <td>3.322754</td>\n",
              "      <td>176.860432</td>\n",
              "      <td>1.270701</td>\n",
              "      <td>140.825479</td>\n",
              "      <td>44.490339</td>\n",
              "      <td>1914.372511</td>\n",
              "      <td>0.048427</td>\n",
              "      <td>0.048527</td>\n",
              "      <td>18.568437</td>\n",
              "      <td>0.198917</td>\n",
              "      <td>0.911325</td>\n",
              "      <td>1.717277</td>\n",
              "      <td>2.401591</td>\n",
              "      <td>4.025169</td>\n",
              "    </tr>\n",
              "    <tr>\n",
              "      <th>min</th>\n",
              "      <td>0.000000</td>\n",
              "      <td>-1.000000</td>\n",
              "      <td>0.000000</td>\n",
              "      <td>-1.000000</td>\n",
              "      <td>0.000000</td>\n",
              "      <td>-1.000000</td>\n",
              "      <td>0.000000</td>\n",
              "      <td>0.000000</td>\n",
              "      <td>0.000000</td>\n",
              "      <td>0.000000</td>\n",
              "      <td>1.000000</td>\n",
              "      <td>1.000000</td>\n",
              "      <td>1.000000</td>\n",
              "      <td>1.000000</td>\n",
              "    </tr>\n",
              "    <tr>\n",
              "      <th>25%</th>\n",
              "      <td>0.000000</td>\n",
              "      <td>0.000000</td>\n",
              "      <td>0.000000</td>\n",
              "      <td>0.000000</td>\n",
              "      <td>7.000000</td>\n",
              "      <td>185.000000</td>\n",
              "      <td>0.000000</td>\n",
              "      <td>0.014286</td>\n",
              "      <td>0.000000</td>\n",
              "      <td>0.000000</td>\n",
              "      <td>2.000000</td>\n",
              "      <td>2.000000</td>\n",
              "      <td>1.000000</td>\n",
              "      <td>2.000000</td>\n",
              "    </tr>\n",
              "    <tr>\n",
              "      <th>50%</th>\n",
              "      <td>1.000000</td>\n",
              "      <td>8.000000</td>\n",
              "      <td>0.000000</td>\n",
              "      <td>0.000000</td>\n",
              "      <td>18.000000</td>\n",
              "      <td>599.766190</td>\n",
              "      <td>0.003119</td>\n",
              "      <td>0.025124</td>\n",
              "      <td>0.000000</td>\n",
              "      <td>0.000000</td>\n",
              "      <td>2.000000</td>\n",
              "      <td>2.000000</td>\n",
              "      <td>3.000000</td>\n",
              "      <td>2.000000</td>\n",
              "    </tr>\n",
              "    <tr>\n",
              "      <th>75%</th>\n",
              "      <td>4.000000</td>\n",
              "      <td>93.500000</td>\n",
              "      <td>0.000000</td>\n",
              "      <td>0.000000</td>\n",
              "      <td>38.000000</td>\n",
              "      <td>1466.479902</td>\n",
              "      <td>0.016684</td>\n",
              "      <td>0.050000</td>\n",
              "      <td>0.000000</td>\n",
              "      <td>0.000000</td>\n",
              "      <td>3.000000</td>\n",
              "      <td>2.000000</td>\n",
              "      <td>4.000000</td>\n",
              "      <td>4.000000</td>\n",
              "    </tr>\n",
              "    <tr>\n",
              "      <th>max</th>\n",
              "      <td>27.000000</td>\n",
              "      <td>3398.750000</td>\n",
              "      <td>24.000000</td>\n",
              "      <td>2549.375000</td>\n",
              "      <td>705.000000</td>\n",
              "      <td>63973.522230</td>\n",
              "      <td>0.200000</td>\n",
              "      <td>0.200000</td>\n",
              "      <td>361.763742</td>\n",
              "      <td>1.000000</td>\n",
              "      <td>8.000000</td>\n",
              "      <td>13.000000</td>\n",
              "      <td>9.000000</td>\n",
              "      <td>20.000000</td>\n",
              "    </tr>\n",
              "  </tbody>\n",
              "</table>\n",
              "</div>"
            ],
            "text/plain": [
              "       Administrative  Administrative_Duration  ...        Region   TrafficType\n",
              "count    12316.000000             12316.000000  ...  12330.000000  12330.000000\n",
              "mean         2.317798                80.906176  ...      3.147364      4.069586\n",
              "std          3.322754               176.860432  ...      2.401591      4.025169\n",
              "min          0.000000                -1.000000  ...      1.000000      1.000000\n",
              "25%          0.000000                 0.000000  ...      1.000000      2.000000\n",
              "50%          1.000000                 8.000000  ...      3.000000      2.000000\n",
              "75%          4.000000                93.500000  ...      4.000000      4.000000\n",
              "max         27.000000              3398.750000  ...      9.000000     20.000000\n",
              "\n",
              "[8 rows x 14 columns]"
            ]
          },
          "metadata": {
            "tags": []
          },
          "execution_count": 39
        }
      ]
    },
    {
      "cell_type": "code",
      "metadata": {
        "id": "hFZV-4iSri9-",
        "colab_type": "code",
        "outputId": "6c9f4988-f30f-4542-ded9-c09638a86085",
        "colab": {
          "base_uri": "https://localhost:8080/",
          "height": 166
        }
      },
      "source": [
        "# Show descriptive statistics for categorical features\n",
        "\n",
        "df.describe(include = [\"object\", \"bool\"])"
      ],
      "execution_count": 0,
      "outputs": [
        {
          "output_type": "execute_result",
          "data": {
            "text/html": [
              "<div>\n",
              "<style scoped>\n",
              "    .dataframe tbody tr th:only-of-type {\n",
              "        vertical-align: middle;\n",
              "    }\n",
              "\n",
              "    .dataframe tbody tr th {\n",
              "        vertical-align: top;\n",
              "    }\n",
              "\n",
              "    .dataframe thead th {\n",
              "        text-align: right;\n",
              "    }\n",
              "</style>\n",
              "<table border=\"1\" class=\"dataframe\">\n",
              "  <thead>\n",
              "    <tr style=\"text-align: right;\">\n",
              "      <th></th>\n",
              "      <th>Month</th>\n",
              "      <th>VisitorType</th>\n",
              "      <th>Weekend</th>\n",
              "      <th>Revenue</th>\n",
              "    </tr>\n",
              "  </thead>\n",
              "  <tbody>\n",
              "    <tr>\n",
              "      <th>count</th>\n",
              "      <td>12330</td>\n",
              "      <td>12330</td>\n",
              "      <td>12330</td>\n",
              "      <td>12330</td>\n",
              "    </tr>\n",
              "    <tr>\n",
              "      <th>unique</th>\n",
              "      <td>10</td>\n",
              "      <td>3</td>\n",
              "      <td>2</td>\n",
              "      <td>2</td>\n",
              "    </tr>\n",
              "    <tr>\n",
              "      <th>top</th>\n",
              "      <td>May</td>\n",
              "      <td>Returning_Visitor</td>\n",
              "      <td>False</td>\n",
              "      <td>False</td>\n",
              "    </tr>\n",
              "    <tr>\n",
              "      <th>freq</th>\n",
              "      <td>3364</td>\n",
              "      <td>10551</td>\n",
              "      <td>9462</td>\n",
              "      <td>10422</td>\n",
              "    </tr>\n",
              "  </tbody>\n",
              "</table>\n",
              "</div>"
            ],
            "text/plain": [
              "        Month        VisitorType Weekend Revenue\n",
              "count   12330              12330   12330   12330\n",
              "unique     10                  3       2       2\n",
              "top       May  Returning_Visitor   False   False\n",
              "freq     3364              10551    9462   10422"
            ]
          },
          "metadata": {
            "tags": []
          },
          "execution_count": 40
        }
      ]
    },
    {
      "cell_type": "markdown",
      "metadata": {
        "id": "fX9Zs_MZfKMg",
        "colab_type": "text"
      },
      "source": [
        "From the output above, we can see that the dataset consist of 12330 rows and 18 columns. The \"Revenue\" column is telling us whether the user will buy a product or not (giving revenue to the company), so we use this as our target variable. The other 17 columns are the features, where 3 of them are categorical and the rest are numerical."
      ]
    },
    {
      "cell_type": "markdown",
      "metadata": {
        "id": "ideNImm1y0si",
        "colab_type": "text"
      },
      "source": [
        "## Data Preprocessing"
      ]
    },
    {
      "cell_type": "markdown",
      "metadata": {
        "id": "v6-dPHtElF6v",
        "colab_type": "text"
      },
      "source": [
        "Before doing the analysis, we have to do data preprocessing. This step is very important because we will prepare the data so that it is ready to be analyzed\\\n",
        "\\\n",
        "First, we check the type of each column"
      ]
    },
    {
      "cell_type": "code",
      "metadata": {
        "id": "z7Mxd7Wco_KC",
        "colab_type": "code",
        "outputId": "e8622937-2cbd-48b1-d5f4-d07de76c6881",
        "colab": {
          "base_uri": "https://localhost:8080/",
          "height": 351
        }
      },
      "source": [
        "df.dtypes"
      ],
      "execution_count": 0,
      "outputs": [
        {
          "output_type": "execute_result",
          "data": {
            "text/plain": [
              "Administrative             float64\n",
              "Administrative_Duration    float64\n",
              "Informational              float64\n",
              "Informational_Duration     float64\n",
              "ProductRelated             float64\n",
              "ProductRelated_Duration    float64\n",
              "BounceRates                float64\n",
              "ExitRates                  float64\n",
              "PageValues                 float64\n",
              "SpecialDay                 float64\n",
              "Month                       object\n",
              "OperatingSystems             int64\n",
              "Browser                      int64\n",
              "Region                       int64\n",
              "TrafficType                  int64\n",
              "VisitorType                 object\n",
              "Weekend                       bool\n",
              "Revenue                       bool\n",
              "dtype: object"
            ]
          },
          "metadata": {
            "tags": []
          },
          "execution_count": 42
        }
      ]
    },
    {
      "cell_type": "markdown",
      "metadata": {
        "id": "UUTrzEzamtns",
        "colab_type": "text"
      },
      "source": [
        "We can see that 14 of them are numeric (either float or int) and 4 are categorical (including the target variable). Next, we want to know the number of unique categories for features with \"object\" type (\"Month\" and \"VisitorType\"). For features with \"bool\" type we already know that there are exactly two unique categories"
      ]
    },
    {
      "cell_type": "code",
      "metadata": {
        "id": "_wk_VZqGy64k",
        "colab_type": "code",
        "outputId": "50bbd62d-d0ba-44be-8770-635f4b54b70b",
        "colab": {
          "base_uri": "https://localhost:8080/",
          "height": 52
        }
      },
      "source": [
        "for col_name in df.columns :\n",
        "  if df[col_name].dtypes == 'object' :\n",
        "    unique_cat = len(df[col_name].unique())\n",
        "    print(\"Feature '{col_name}' has {unique_cat} unique categories\".format(col_name=col_name, unique_cat=unique_cat))"
      ],
      "execution_count": 0,
      "outputs": [
        {
          "output_type": "stream",
          "text": [
            "Feature 'Month' has 10 unique categories\n",
            "Feature 'VisitorType' has 3 unique categories\n"
          ],
          "name": "stdout"
        }
      ]
    },
    {
      "cell_type": "markdown",
      "metadata": {
        "id": "gcXEuccGpaIW",
        "colab_type": "text"
      },
      "source": [
        "Next, we will check the presence of missing value in the dataset"
      ]
    },
    {
      "cell_type": "code",
      "metadata": {
        "id": "pWrhLE_6rIfd",
        "colab_type": "code",
        "outputId": "dada39d1-a3d9-48ce-bcf2-176d37f25390",
        "colab": {
          "base_uri": "https://localhost:8080/",
          "height": 351
        }
      },
      "source": [
        "df.isnull().sum()"
      ],
      "execution_count": 0,
      "outputs": [
        {
          "output_type": "execute_result",
          "data": {
            "text/plain": [
              "Administrative             14\n",
              "Administrative_Duration    14\n",
              "Informational              14\n",
              "Informational_Duration     14\n",
              "ProductRelated             14\n",
              "ProductRelated_Duration    14\n",
              "BounceRates                14\n",
              "ExitRates                  14\n",
              "PageValues                  0\n",
              "SpecialDay                  0\n",
              "Month                       0\n",
              "OperatingSystems            0\n",
              "Browser                     0\n",
              "Region                      0\n",
              "TrafficType                 0\n",
              "VisitorType                 0\n",
              "Weekend                     0\n",
              "Revenue                     0\n",
              "dtype: int64"
            ]
          },
          "metadata": {
            "tags": []
          },
          "execution_count": 44
        }
      ]
    },
    {
      "cell_type": "markdown",
      "metadata": {
        "id": "Lkgo40tJpnhA",
        "colab_type": "text"
      },
      "source": [
        "From the output we can see the number of missing value for each column. To handle this, we choose to drop every row that contains missing value, because the number of missing value is low and not significant to the number of row in the dataset."
      ]
    },
    {
      "cell_type": "code",
      "metadata": {
        "id": "7aLZCkthx2Lp",
        "colab_type": "code",
        "colab": {}
      },
      "source": [
        "df = df.dropna()"
      ],
      "execution_count": 0,
      "outputs": []
    },
    {
      "cell_type": "markdown",
      "metadata": {
        "id": "Fd_EzXcAqCLV",
        "colab_type": "text"
      },
      "source": [
        "Next, we will make the dummy variable for categorical features. This is done so that python can read the value and use it in the model. Making dummy variable means for every unique category in a categorical feature, we create a new column and assign value 0 or 1 to that column that represent the category of that row"
      ]
    },
    {
      "cell_type": "code",
      "metadata": {
        "id": "JtwJj4C8xmtW",
        "colab_type": "code",
        "colab": {}
      },
      "source": [
        "df[['Weekend','Revenue']] = df[['Weekend','Revenue']].astype(int)"
      ],
      "execution_count": 0,
      "outputs": []
    },
    {
      "cell_type": "code",
      "metadata": {
        "id": "cG2Y7--mIZHP",
        "colab_type": "code",
        "colab": {}
      },
      "source": [
        "df = pd.get_dummies(df)"
      ],
      "execution_count": 0,
      "outputs": []
    },
    {
      "cell_type": "code",
      "metadata": {
        "id": "cVvdrczKy9Eh",
        "colab_type": "code",
        "outputId": "8067dc3b-3b32-48e1-e0d1-cbfed0e1b08c",
        "colab": {
          "base_uri": "https://localhost:8080/",
          "height": 422
        }
      },
      "source": [
        "df"
      ],
      "execution_count": 0,
      "outputs": [
        {
          "output_type": "execute_result",
          "data": {
            "text/html": [
              "<div>\n",
              "<style scoped>\n",
              "    .dataframe tbody tr th:only-of-type {\n",
              "        vertical-align: middle;\n",
              "    }\n",
              "\n",
              "    .dataframe tbody tr th {\n",
              "        vertical-align: top;\n",
              "    }\n",
              "\n",
              "    .dataframe thead th {\n",
              "        text-align: right;\n",
              "    }\n",
              "</style>\n",
              "<table border=\"1\" class=\"dataframe\">\n",
              "  <thead>\n",
              "    <tr style=\"text-align: right;\">\n",
              "      <th></th>\n",
              "      <th>Administrative</th>\n",
              "      <th>Administrative_Duration</th>\n",
              "      <th>Informational</th>\n",
              "      <th>Informational_Duration</th>\n",
              "      <th>ProductRelated</th>\n",
              "      <th>ProductRelated_Duration</th>\n",
              "      <th>BounceRates</th>\n",
              "      <th>ExitRates</th>\n",
              "      <th>PageValues</th>\n",
              "      <th>SpecialDay</th>\n",
              "      <th>OperatingSystems</th>\n",
              "      <th>Browser</th>\n",
              "      <th>Region</th>\n",
              "      <th>TrafficType</th>\n",
              "      <th>Weekend</th>\n",
              "      <th>Revenue</th>\n",
              "      <th>Month_Aug</th>\n",
              "      <th>Month_Dec</th>\n",
              "      <th>Month_Feb</th>\n",
              "      <th>Month_Jul</th>\n",
              "      <th>Month_June</th>\n",
              "      <th>Month_Mar</th>\n",
              "      <th>Month_May</th>\n",
              "      <th>Month_Nov</th>\n",
              "      <th>Month_Oct</th>\n",
              "      <th>Month_Sep</th>\n",
              "      <th>VisitorType_New_Visitor</th>\n",
              "      <th>VisitorType_Other</th>\n",
              "      <th>VisitorType_Returning_Visitor</th>\n",
              "    </tr>\n",
              "  </thead>\n",
              "  <tbody>\n",
              "    <tr>\n",
              "      <th>0</th>\n",
              "      <td>0.0</td>\n",
              "      <td>0.0</td>\n",
              "      <td>0.0</td>\n",
              "      <td>0.0</td>\n",
              "      <td>1.0</td>\n",
              "      <td>0.000000</td>\n",
              "      <td>0.200000</td>\n",
              "      <td>0.200000</td>\n",
              "      <td>0.000000</td>\n",
              "      <td>0.0</td>\n",
              "      <td>1</td>\n",
              "      <td>1</td>\n",
              "      <td>1</td>\n",
              "      <td>1</td>\n",
              "      <td>0</td>\n",
              "      <td>0</td>\n",
              "      <td>0</td>\n",
              "      <td>0</td>\n",
              "      <td>1</td>\n",
              "      <td>0</td>\n",
              "      <td>0</td>\n",
              "      <td>0</td>\n",
              "      <td>0</td>\n",
              "      <td>0</td>\n",
              "      <td>0</td>\n",
              "      <td>0</td>\n",
              "      <td>0</td>\n",
              "      <td>0</td>\n",
              "      <td>1</td>\n",
              "    </tr>\n",
              "    <tr>\n",
              "      <th>1</th>\n",
              "      <td>0.0</td>\n",
              "      <td>0.0</td>\n",
              "      <td>0.0</td>\n",
              "      <td>0.0</td>\n",
              "      <td>2.0</td>\n",
              "      <td>64.000000</td>\n",
              "      <td>0.000000</td>\n",
              "      <td>0.100000</td>\n",
              "      <td>0.000000</td>\n",
              "      <td>0.0</td>\n",
              "      <td>2</td>\n",
              "      <td>2</td>\n",
              "      <td>1</td>\n",
              "      <td>2</td>\n",
              "      <td>0</td>\n",
              "      <td>0</td>\n",
              "      <td>0</td>\n",
              "      <td>0</td>\n",
              "      <td>1</td>\n",
              "      <td>0</td>\n",
              "      <td>0</td>\n",
              "      <td>0</td>\n",
              "      <td>0</td>\n",
              "      <td>0</td>\n",
              "      <td>0</td>\n",
              "      <td>0</td>\n",
              "      <td>0</td>\n",
              "      <td>0</td>\n",
              "      <td>1</td>\n",
              "    </tr>\n",
              "    <tr>\n",
              "      <th>2</th>\n",
              "      <td>0.0</td>\n",
              "      <td>-1.0</td>\n",
              "      <td>0.0</td>\n",
              "      <td>-1.0</td>\n",
              "      <td>1.0</td>\n",
              "      <td>-1.000000</td>\n",
              "      <td>0.200000</td>\n",
              "      <td>0.200000</td>\n",
              "      <td>0.000000</td>\n",
              "      <td>0.0</td>\n",
              "      <td>4</td>\n",
              "      <td>1</td>\n",
              "      <td>9</td>\n",
              "      <td>3</td>\n",
              "      <td>0</td>\n",
              "      <td>0</td>\n",
              "      <td>0</td>\n",
              "      <td>0</td>\n",
              "      <td>1</td>\n",
              "      <td>0</td>\n",
              "      <td>0</td>\n",
              "      <td>0</td>\n",
              "      <td>0</td>\n",
              "      <td>0</td>\n",
              "      <td>0</td>\n",
              "      <td>0</td>\n",
              "      <td>0</td>\n",
              "      <td>0</td>\n",
              "      <td>1</td>\n",
              "    </tr>\n",
              "    <tr>\n",
              "      <th>3</th>\n",
              "      <td>0.0</td>\n",
              "      <td>0.0</td>\n",
              "      <td>0.0</td>\n",
              "      <td>0.0</td>\n",
              "      <td>2.0</td>\n",
              "      <td>2.666667</td>\n",
              "      <td>0.050000</td>\n",
              "      <td>0.140000</td>\n",
              "      <td>0.000000</td>\n",
              "      <td>0.0</td>\n",
              "      <td>3</td>\n",
              "      <td>2</td>\n",
              "      <td>2</td>\n",
              "      <td>4</td>\n",
              "      <td>0</td>\n",
              "      <td>0</td>\n",
              "      <td>0</td>\n",
              "      <td>0</td>\n",
              "      <td>1</td>\n",
              "      <td>0</td>\n",
              "      <td>0</td>\n",
              "      <td>0</td>\n",
              "      <td>0</td>\n",
              "      <td>0</td>\n",
              "      <td>0</td>\n",
              "      <td>0</td>\n",
              "      <td>0</td>\n",
              "      <td>0</td>\n",
              "      <td>1</td>\n",
              "    </tr>\n",
              "    <tr>\n",
              "      <th>4</th>\n",
              "      <td>0.0</td>\n",
              "      <td>0.0</td>\n",
              "      <td>0.0</td>\n",
              "      <td>0.0</td>\n",
              "      <td>10.0</td>\n",
              "      <td>627.500000</td>\n",
              "      <td>0.020000</td>\n",
              "      <td>0.050000</td>\n",
              "      <td>0.000000</td>\n",
              "      <td>0.0</td>\n",
              "      <td>3</td>\n",
              "      <td>3</td>\n",
              "      <td>1</td>\n",
              "      <td>4</td>\n",
              "      <td>1</td>\n",
              "      <td>0</td>\n",
              "      <td>0</td>\n",
              "      <td>0</td>\n",
              "      <td>1</td>\n",
              "      <td>0</td>\n",
              "      <td>0</td>\n",
              "      <td>0</td>\n",
              "      <td>0</td>\n",
              "      <td>0</td>\n",
              "      <td>0</td>\n",
              "      <td>0</td>\n",
              "      <td>0</td>\n",
              "      <td>0</td>\n",
              "      <td>1</td>\n",
              "    </tr>\n",
              "    <tr>\n",
              "      <th>...</th>\n",
              "      <td>...</td>\n",
              "      <td>...</td>\n",
              "      <td>...</td>\n",
              "      <td>...</td>\n",
              "      <td>...</td>\n",
              "      <td>...</td>\n",
              "      <td>...</td>\n",
              "      <td>...</td>\n",
              "      <td>...</td>\n",
              "      <td>...</td>\n",
              "      <td>...</td>\n",
              "      <td>...</td>\n",
              "      <td>...</td>\n",
              "      <td>...</td>\n",
              "      <td>...</td>\n",
              "      <td>...</td>\n",
              "      <td>...</td>\n",
              "      <td>...</td>\n",
              "      <td>...</td>\n",
              "      <td>...</td>\n",
              "      <td>...</td>\n",
              "      <td>...</td>\n",
              "      <td>...</td>\n",
              "      <td>...</td>\n",
              "      <td>...</td>\n",
              "      <td>...</td>\n",
              "      <td>...</td>\n",
              "      <td>...</td>\n",
              "      <td>...</td>\n",
              "    </tr>\n",
              "    <tr>\n",
              "      <th>12325</th>\n",
              "      <td>3.0</td>\n",
              "      <td>145.0</td>\n",
              "      <td>0.0</td>\n",
              "      <td>0.0</td>\n",
              "      <td>53.0</td>\n",
              "      <td>1783.791667</td>\n",
              "      <td>0.007143</td>\n",
              "      <td>0.029031</td>\n",
              "      <td>12.241717</td>\n",
              "      <td>0.0</td>\n",
              "      <td>4</td>\n",
              "      <td>6</td>\n",
              "      <td>1</td>\n",
              "      <td>1</td>\n",
              "      <td>1</td>\n",
              "      <td>0</td>\n",
              "      <td>0</td>\n",
              "      <td>1</td>\n",
              "      <td>0</td>\n",
              "      <td>0</td>\n",
              "      <td>0</td>\n",
              "      <td>0</td>\n",
              "      <td>0</td>\n",
              "      <td>0</td>\n",
              "      <td>0</td>\n",
              "      <td>0</td>\n",
              "      <td>0</td>\n",
              "      <td>0</td>\n",
              "      <td>1</td>\n",
              "    </tr>\n",
              "    <tr>\n",
              "      <th>12326</th>\n",
              "      <td>0.0</td>\n",
              "      <td>0.0</td>\n",
              "      <td>0.0</td>\n",
              "      <td>0.0</td>\n",
              "      <td>5.0</td>\n",
              "      <td>465.750000</td>\n",
              "      <td>0.000000</td>\n",
              "      <td>0.021333</td>\n",
              "      <td>0.000000</td>\n",
              "      <td>0.0</td>\n",
              "      <td>3</td>\n",
              "      <td>2</td>\n",
              "      <td>1</td>\n",
              "      <td>8</td>\n",
              "      <td>1</td>\n",
              "      <td>0</td>\n",
              "      <td>0</td>\n",
              "      <td>0</td>\n",
              "      <td>0</td>\n",
              "      <td>0</td>\n",
              "      <td>0</td>\n",
              "      <td>0</td>\n",
              "      <td>0</td>\n",
              "      <td>1</td>\n",
              "      <td>0</td>\n",
              "      <td>0</td>\n",
              "      <td>0</td>\n",
              "      <td>0</td>\n",
              "      <td>1</td>\n",
              "    </tr>\n",
              "    <tr>\n",
              "      <th>12327</th>\n",
              "      <td>0.0</td>\n",
              "      <td>0.0</td>\n",
              "      <td>0.0</td>\n",
              "      <td>0.0</td>\n",
              "      <td>6.0</td>\n",
              "      <td>184.250000</td>\n",
              "      <td>0.083333</td>\n",
              "      <td>0.086667</td>\n",
              "      <td>0.000000</td>\n",
              "      <td>0.0</td>\n",
              "      <td>3</td>\n",
              "      <td>2</td>\n",
              "      <td>1</td>\n",
              "      <td>13</td>\n",
              "      <td>1</td>\n",
              "      <td>0</td>\n",
              "      <td>0</td>\n",
              "      <td>0</td>\n",
              "      <td>0</td>\n",
              "      <td>0</td>\n",
              "      <td>0</td>\n",
              "      <td>0</td>\n",
              "      <td>0</td>\n",
              "      <td>1</td>\n",
              "      <td>0</td>\n",
              "      <td>0</td>\n",
              "      <td>0</td>\n",
              "      <td>0</td>\n",
              "      <td>1</td>\n",
              "    </tr>\n",
              "    <tr>\n",
              "      <th>12328</th>\n",
              "      <td>4.0</td>\n",
              "      <td>75.0</td>\n",
              "      <td>0.0</td>\n",
              "      <td>0.0</td>\n",
              "      <td>15.0</td>\n",
              "      <td>346.000000</td>\n",
              "      <td>0.000000</td>\n",
              "      <td>0.021053</td>\n",
              "      <td>0.000000</td>\n",
              "      <td>0.0</td>\n",
              "      <td>2</td>\n",
              "      <td>2</td>\n",
              "      <td>3</td>\n",
              "      <td>11</td>\n",
              "      <td>0</td>\n",
              "      <td>0</td>\n",
              "      <td>0</td>\n",
              "      <td>0</td>\n",
              "      <td>0</td>\n",
              "      <td>0</td>\n",
              "      <td>0</td>\n",
              "      <td>0</td>\n",
              "      <td>0</td>\n",
              "      <td>1</td>\n",
              "      <td>0</td>\n",
              "      <td>0</td>\n",
              "      <td>0</td>\n",
              "      <td>0</td>\n",
              "      <td>1</td>\n",
              "    </tr>\n",
              "    <tr>\n",
              "      <th>12329</th>\n",
              "      <td>0.0</td>\n",
              "      <td>0.0</td>\n",
              "      <td>0.0</td>\n",
              "      <td>0.0</td>\n",
              "      <td>3.0</td>\n",
              "      <td>21.250000</td>\n",
              "      <td>0.000000</td>\n",
              "      <td>0.066667</td>\n",
              "      <td>0.000000</td>\n",
              "      <td>0.0</td>\n",
              "      <td>3</td>\n",
              "      <td>2</td>\n",
              "      <td>1</td>\n",
              "      <td>2</td>\n",
              "      <td>1</td>\n",
              "      <td>0</td>\n",
              "      <td>0</td>\n",
              "      <td>0</td>\n",
              "      <td>0</td>\n",
              "      <td>0</td>\n",
              "      <td>0</td>\n",
              "      <td>0</td>\n",
              "      <td>0</td>\n",
              "      <td>1</td>\n",
              "      <td>0</td>\n",
              "      <td>0</td>\n",
              "      <td>1</td>\n",
              "      <td>0</td>\n",
              "      <td>0</td>\n",
              "    </tr>\n",
              "  </tbody>\n",
              "</table>\n",
              "<p>12316 rows × 29 columns</p>\n",
              "</div>"
            ],
            "text/plain": [
              "       Administrative  ...  VisitorType_Returning_Visitor\n",
              "0                 0.0  ...                              1\n",
              "1                 0.0  ...                              1\n",
              "2                 0.0  ...                              1\n",
              "3                 0.0  ...                              1\n",
              "4                 0.0  ...                              1\n",
              "...               ...  ...                            ...\n",
              "12325             3.0  ...                              1\n",
              "12326             0.0  ...                              1\n",
              "12327             0.0  ...                              1\n",
              "12328             4.0  ...                              1\n",
              "12329             0.0  ...                              0\n",
              "\n",
              "[12316 rows x 29 columns]"
            ]
          },
          "metadata": {
            "tags": []
          },
          "execution_count": 48
        }
      ]
    },
    {
      "cell_type": "code",
      "metadata": {
        "id": "ALAIZR4GzAZS",
        "colab_type": "code",
        "outputId": "5d47af22-69ac-4e8a-9cf9-277e79b09c32",
        "colab": {
          "base_uri": "https://localhost:8080/",
          "height": 545
        }
      },
      "source": [
        "df.dtypes"
      ],
      "execution_count": 0,
      "outputs": [
        {
          "output_type": "execute_result",
          "data": {
            "text/plain": [
              "Administrative                   float64\n",
              "Administrative_Duration          float64\n",
              "Informational                    float64\n",
              "Informational_Duration           float64\n",
              "ProductRelated                   float64\n",
              "ProductRelated_Duration          float64\n",
              "BounceRates                      float64\n",
              "ExitRates                        float64\n",
              "PageValues                       float64\n",
              "SpecialDay                       float64\n",
              "OperatingSystems                   int64\n",
              "Browser                            int64\n",
              "Region                             int64\n",
              "TrafficType                        int64\n",
              "Weekend                            int64\n",
              "Revenue                            int64\n",
              "Month_Aug                          uint8\n",
              "Month_Dec                          uint8\n",
              "Month_Feb                          uint8\n",
              "Month_Jul                          uint8\n",
              "Month_June                         uint8\n",
              "Month_Mar                          uint8\n",
              "Month_May                          uint8\n",
              "Month_Nov                          uint8\n",
              "Month_Oct                          uint8\n",
              "Month_Sep                          uint8\n",
              "VisitorType_New_Visitor            uint8\n",
              "VisitorType_Other                  uint8\n",
              "VisitorType_Returning_Visitor      uint8\n",
              "dtype: object"
            ]
          },
          "metadata": {
            "tags": []
          },
          "execution_count": 49
        }
      ]
    },
    {
      "cell_type": "code",
      "metadata": {
        "id": "b9eYO1O-DGYb",
        "colab_type": "code",
        "outputId": "a9f4ff80-4ae7-4d24-ef32-b45e881024fb",
        "colab": {
          "base_uri": "https://localhost:8080/",
          "height": 304
        }
      },
      "source": [
        "df.describe()"
      ],
      "execution_count": 0,
      "outputs": [
        {
          "output_type": "execute_result",
          "data": {
            "text/html": [
              "<div>\n",
              "<style scoped>\n",
              "    .dataframe tbody tr th:only-of-type {\n",
              "        vertical-align: middle;\n",
              "    }\n",
              "\n",
              "    .dataframe tbody tr th {\n",
              "        vertical-align: top;\n",
              "    }\n",
              "\n",
              "    .dataframe thead th {\n",
              "        text-align: right;\n",
              "    }\n",
              "</style>\n",
              "<table border=\"1\" class=\"dataframe\">\n",
              "  <thead>\n",
              "    <tr style=\"text-align: right;\">\n",
              "      <th></th>\n",
              "      <th>Administrative</th>\n",
              "      <th>Administrative_Duration</th>\n",
              "      <th>Informational</th>\n",
              "      <th>Informational_Duration</th>\n",
              "      <th>ProductRelated</th>\n",
              "      <th>ProductRelated_Duration</th>\n",
              "      <th>BounceRates</th>\n",
              "      <th>ExitRates</th>\n",
              "      <th>PageValues</th>\n",
              "      <th>SpecialDay</th>\n",
              "      <th>OperatingSystems</th>\n",
              "      <th>Browser</th>\n",
              "      <th>Region</th>\n",
              "      <th>TrafficType</th>\n",
              "      <th>Weekend</th>\n",
              "      <th>Revenue</th>\n",
              "      <th>Month_Aug</th>\n",
              "      <th>Month_Dec</th>\n",
              "      <th>Month_Feb</th>\n",
              "      <th>Month_Jul</th>\n",
              "      <th>Month_June</th>\n",
              "      <th>Month_Mar</th>\n",
              "      <th>Month_May</th>\n",
              "      <th>Month_Nov</th>\n",
              "      <th>Month_Oct</th>\n",
              "      <th>Month_Sep</th>\n",
              "      <th>VisitorType_New_Visitor</th>\n",
              "      <th>VisitorType_Other</th>\n",
              "      <th>VisitorType_Returning_Visitor</th>\n",
              "    </tr>\n",
              "  </thead>\n",
              "  <tbody>\n",
              "    <tr>\n",
              "      <th>count</th>\n",
              "      <td>12316.000000</td>\n",
              "      <td>12316.000000</td>\n",
              "      <td>12316.000000</td>\n",
              "      <td>12316.000000</td>\n",
              "      <td>12316.000000</td>\n",
              "      <td>12316.000000</td>\n",
              "      <td>12316.000000</td>\n",
              "      <td>12316.000000</td>\n",
              "      <td>12316.000000</td>\n",
              "      <td>12316.000000</td>\n",
              "      <td>12316.000000</td>\n",
              "      <td>12316.000000</td>\n",
              "      <td>12316.000000</td>\n",
              "      <td>12316.000000</td>\n",
              "      <td>12316.000000</td>\n",
              "      <td>12316.000000</td>\n",
              "      <td>12316.000000</td>\n",
              "      <td>12316.000000</td>\n",
              "      <td>12316.000000</td>\n",
              "      <td>12316.000000</td>\n",
              "      <td>12316.000000</td>\n",
              "      <td>12316.000000</td>\n",
              "      <td>12316.000000</td>\n",
              "      <td>12316.000000</td>\n",
              "      <td>12316.000000</td>\n",
              "      <td>12316.000000</td>\n",
              "      <td>12316.000000</td>\n",
              "      <td>12316.000000</td>\n",
              "      <td>12316.000000</td>\n",
              "    </tr>\n",
              "    <tr>\n",
              "      <th>mean</th>\n",
              "      <td>2.317798</td>\n",
              "      <td>80.906176</td>\n",
              "      <td>0.503979</td>\n",
              "      <td>34.506387</td>\n",
              "      <td>31.763884</td>\n",
              "      <td>1196.037057</td>\n",
              "      <td>0.022152</td>\n",
              "      <td>0.043003</td>\n",
              "      <td>5.895952</td>\n",
              "      <td>0.061497</td>\n",
              "      <td>2.124147</td>\n",
              "      <td>2.357584</td>\n",
              "      <td>3.148019</td>\n",
              "      <td>4.070477</td>\n",
              "      <td>0.232624</td>\n",
              "      <td>0.154920</td>\n",
              "      <td>0.035158</td>\n",
              "      <td>0.140224</td>\n",
              "      <td>0.014940</td>\n",
              "      <td>0.035076</td>\n",
              "      <td>0.023384</td>\n",
              "      <td>0.153784</td>\n",
              "      <td>0.273059</td>\n",
              "      <td>0.243423</td>\n",
              "      <td>0.044576</td>\n",
              "      <td>0.036375</td>\n",
              "      <td>0.137545</td>\n",
              "      <td>0.006902</td>\n",
              "      <td>0.855554</td>\n",
              "    </tr>\n",
              "    <tr>\n",
              "      <th>std</th>\n",
              "      <td>3.322754</td>\n",
              "      <td>176.860432</td>\n",
              "      <td>1.270701</td>\n",
              "      <td>140.825479</td>\n",
              "      <td>44.490339</td>\n",
              "      <td>1914.372511</td>\n",
              "      <td>0.048427</td>\n",
              "      <td>0.048527</td>\n",
              "      <td>18.577926</td>\n",
              "      <td>0.199020</td>\n",
              "      <td>0.911566</td>\n",
              "      <td>1.718028</td>\n",
              "      <td>2.402211</td>\n",
              "      <td>4.024598</td>\n",
              "      <td>0.422522</td>\n",
              "      <td>0.361844</td>\n",
              "      <td>0.184185</td>\n",
              "      <td>0.347233</td>\n",
              "      <td>0.121317</td>\n",
              "      <td>0.183980</td>\n",
              "      <td>0.151127</td>\n",
              "      <td>0.360756</td>\n",
              "      <td>0.445549</td>\n",
              "      <td>0.429166</td>\n",
              "      <td>0.206380</td>\n",
              "      <td>0.187230</td>\n",
              "      <td>0.344435</td>\n",
              "      <td>0.082792</td>\n",
              "      <td>0.351556</td>\n",
              "    </tr>\n",
              "    <tr>\n",
              "      <th>min</th>\n",
              "      <td>0.000000</td>\n",
              "      <td>-1.000000</td>\n",
              "      <td>0.000000</td>\n",
              "      <td>-1.000000</td>\n",
              "      <td>0.000000</td>\n",
              "      <td>-1.000000</td>\n",
              "      <td>0.000000</td>\n",
              "      <td>0.000000</td>\n",
              "      <td>0.000000</td>\n",
              "      <td>0.000000</td>\n",
              "      <td>1.000000</td>\n",
              "      <td>1.000000</td>\n",
              "      <td>1.000000</td>\n",
              "      <td>1.000000</td>\n",
              "      <td>0.000000</td>\n",
              "      <td>0.000000</td>\n",
              "      <td>0.000000</td>\n",
              "      <td>0.000000</td>\n",
              "      <td>0.000000</td>\n",
              "      <td>0.000000</td>\n",
              "      <td>0.000000</td>\n",
              "      <td>0.000000</td>\n",
              "      <td>0.000000</td>\n",
              "      <td>0.000000</td>\n",
              "      <td>0.000000</td>\n",
              "      <td>0.000000</td>\n",
              "      <td>0.000000</td>\n",
              "      <td>0.000000</td>\n",
              "      <td>0.000000</td>\n",
              "    </tr>\n",
              "    <tr>\n",
              "      <th>25%</th>\n",
              "      <td>0.000000</td>\n",
              "      <td>0.000000</td>\n",
              "      <td>0.000000</td>\n",
              "      <td>0.000000</td>\n",
              "      <td>7.000000</td>\n",
              "      <td>185.000000</td>\n",
              "      <td>0.000000</td>\n",
              "      <td>0.014286</td>\n",
              "      <td>0.000000</td>\n",
              "      <td>0.000000</td>\n",
              "      <td>2.000000</td>\n",
              "      <td>2.000000</td>\n",
              "      <td>1.000000</td>\n",
              "      <td>2.000000</td>\n",
              "      <td>0.000000</td>\n",
              "      <td>0.000000</td>\n",
              "      <td>0.000000</td>\n",
              "      <td>0.000000</td>\n",
              "      <td>0.000000</td>\n",
              "      <td>0.000000</td>\n",
              "      <td>0.000000</td>\n",
              "      <td>0.000000</td>\n",
              "      <td>0.000000</td>\n",
              "      <td>0.000000</td>\n",
              "      <td>0.000000</td>\n",
              "      <td>0.000000</td>\n",
              "      <td>0.000000</td>\n",
              "      <td>0.000000</td>\n",
              "      <td>1.000000</td>\n",
              "    </tr>\n",
              "    <tr>\n",
              "      <th>50%</th>\n",
              "      <td>1.000000</td>\n",
              "      <td>8.000000</td>\n",
              "      <td>0.000000</td>\n",
              "      <td>0.000000</td>\n",
              "      <td>18.000000</td>\n",
              "      <td>599.766190</td>\n",
              "      <td>0.003119</td>\n",
              "      <td>0.025124</td>\n",
              "      <td>0.000000</td>\n",
              "      <td>0.000000</td>\n",
              "      <td>2.000000</td>\n",
              "      <td>2.000000</td>\n",
              "      <td>3.000000</td>\n",
              "      <td>2.000000</td>\n",
              "      <td>0.000000</td>\n",
              "      <td>0.000000</td>\n",
              "      <td>0.000000</td>\n",
              "      <td>0.000000</td>\n",
              "      <td>0.000000</td>\n",
              "      <td>0.000000</td>\n",
              "      <td>0.000000</td>\n",
              "      <td>0.000000</td>\n",
              "      <td>0.000000</td>\n",
              "      <td>0.000000</td>\n",
              "      <td>0.000000</td>\n",
              "      <td>0.000000</td>\n",
              "      <td>0.000000</td>\n",
              "      <td>0.000000</td>\n",
              "      <td>1.000000</td>\n",
              "    </tr>\n",
              "    <tr>\n",
              "      <th>75%</th>\n",
              "      <td>4.000000</td>\n",
              "      <td>93.500000</td>\n",
              "      <td>0.000000</td>\n",
              "      <td>0.000000</td>\n",
              "      <td>38.000000</td>\n",
              "      <td>1466.479902</td>\n",
              "      <td>0.016684</td>\n",
              "      <td>0.050000</td>\n",
              "      <td>0.000000</td>\n",
              "      <td>0.000000</td>\n",
              "      <td>3.000000</td>\n",
              "      <td>2.000000</td>\n",
              "      <td>4.000000</td>\n",
              "      <td>4.000000</td>\n",
              "      <td>0.000000</td>\n",
              "      <td>0.000000</td>\n",
              "      <td>0.000000</td>\n",
              "      <td>0.000000</td>\n",
              "      <td>0.000000</td>\n",
              "      <td>0.000000</td>\n",
              "      <td>0.000000</td>\n",
              "      <td>0.000000</td>\n",
              "      <td>1.000000</td>\n",
              "      <td>0.000000</td>\n",
              "      <td>0.000000</td>\n",
              "      <td>0.000000</td>\n",
              "      <td>0.000000</td>\n",
              "      <td>0.000000</td>\n",
              "      <td>1.000000</td>\n",
              "    </tr>\n",
              "    <tr>\n",
              "      <th>max</th>\n",
              "      <td>27.000000</td>\n",
              "      <td>3398.750000</td>\n",
              "      <td>24.000000</td>\n",
              "      <td>2549.375000</td>\n",
              "      <td>705.000000</td>\n",
              "      <td>63973.522230</td>\n",
              "      <td>0.200000</td>\n",
              "      <td>0.200000</td>\n",
              "      <td>361.763742</td>\n",
              "      <td>1.000000</td>\n",
              "      <td>8.000000</td>\n",
              "      <td>13.000000</td>\n",
              "      <td>9.000000</td>\n",
              "      <td>20.000000</td>\n",
              "      <td>1.000000</td>\n",
              "      <td>1.000000</td>\n",
              "      <td>1.000000</td>\n",
              "      <td>1.000000</td>\n",
              "      <td>1.000000</td>\n",
              "      <td>1.000000</td>\n",
              "      <td>1.000000</td>\n",
              "      <td>1.000000</td>\n",
              "      <td>1.000000</td>\n",
              "      <td>1.000000</td>\n",
              "      <td>1.000000</td>\n",
              "      <td>1.000000</td>\n",
              "      <td>1.000000</td>\n",
              "      <td>1.000000</td>\n",
              "      <td>1.000000</td>\n",
              "    </tr>\n",
              "  </tbody>\n",
              "</table>\n",
              "</div>"
            ],
            "text/plain": [
              "       Administrative  ...  VisitorType_Returning_Visitor\n",
              "count    12316.000000  ...                   12316.000000\n",
              "mean         2.317798  ...                       0.855554\n",
              "std          3.322754  ...                       0.351556\n",
              "min          0.000000  ...                       0.000000\n",
              "25%          0.000000  ...                       1.000000\n",
              "50%          1.000000  ...                       1.000000\n",
              "75%          4.000000  ...                       1.000000\n",
              "max         27.000000  ...                       1.000000\n",
              "\n",
              "[8 rows x 29 columns]"
            ]
          },
          "metadata": {
            "tags": []
          },
          "execution_count": 50
        }
      ]
    },
    {
      "cell_type": "markdown",
      "metadata": {
        "id": "39TNBtnDsBnH",
        "colab_type": "text"
      },
      "source": [
        "To recap the preprocessing step, we have removed the missing value and making the dummy for categorical features. Now our dataset consists of 12316 rows and 29 columns, and it is ready for analysis"
      ]
    },
    {
      "cell_type": "markdown",
      "metadata": {
        "id": "_IZ7yecS0BQG",
        "colab_type": "text"
      },
      "source": [
        "## Data Visualization"
      ]
    },
    {
      "cell_type": "markdown",
      "metadata": {
        "id": "kslUVY5TsjwS",
        "colab_type": "text"
      },
      "source": [
        "First we want to visualize our dataset. We do this to get some insights about our data before we do the analysis"
      ]
    },
    {
      "cell_type": "code",
      "metadata": {
        "id": "JWd6DE770DVr",
        "colab_type": "code",
        "colab": {}
      },
      "source": [
        "import seaborn as sns"
      ],
      "execution_count": 0,
      "outputs": []
    },
    {
      "cell_type": "code",
      "metadata": {
        "id": "wUOpKTsZgPhu",
        "colab_type": "code",
        "outputId": "8ae0da72-23ad-4e3b-a3f0-89359f7d985f",
        "colab": {
          "base_uri": "https://localhost:8080/",
          "height": 297
        }
      },
      "source": [
        "sns.countplot(df['Revenue'])"
      ],
      "execution_count": 0,
      "outputs": [
        {
          "output_type": "execute_result",
          "data": {
            "text/plain": [
              "<matplotlib.axes._subplots.AxesSubplot at 0x7f5ecb325978>"
            ]
          },
          "metadata": {
            "tags": []
          },
          "execution_count": 53
        },
        {
          "output_type": "display_data",
          "data": {
            "image/png": "[encoded data removed]",
            "text/plain": [
              "<Figure size 432x288 with 1 Axes>"
            ]
          },
          "metadata": {
            "tags": []
          }
        }
      ]
    },
    {
      "cell_type": "markdown",
      "metadata": {
        "id": "vJmBy_p6t7LP",
        "colab_type": "text"
      },
      "source": [
        "The barchart above shows the value of our target variable, \"Revenue\". From the chart we can see that most of the customers ended up did not purchase anything. Only 15.49% of the customers ended up purchasing something."
      ]
    },
    {
      "cell_type": "code",
      "metadata": {
        "id": "JYKVMVB8guXF",
        "colab_type": "code",
        "colab": {}
      },
      "source": [
        "data = pd.read_csv(\"online_shoppers_intention.csv\")"
      ],
      "execution_count": 0,
      "outputs": []
    },
    {
      "cell_type": "code",
      "metadata": {
        "id": "LHY-E-dShJLu",
        "colab_type": "code",
        "colab": {}
      },
      "source": [
        "data = data.dropna()"
      ],
      "execution_count": 0,
      "outputs": []
    },
    {
      "cell_type": "code",
      "metadata": {
        "id": "0EEK543ahN5A",
        "colab_type": "code",
        "outputId": "e522428a-6d3e-4c6a-ce94-5131544a98cf",
        "colab": {
          "base_uri": "https://localhost:8080/",
          "height": 298
        }
      },
      "source": [
        "sns.countplot(data['VisitorType'])"
      ],
      "execution_count": 0,
      "outputs": [
        {
          "output_type": "execute_result",
          "data": {
            "text/plain": [
              "<matplotlib.axes._subplots.AxesSubplot at 0x7f5ec89fafd0>"
            ]
          },
          "metadata": {
            "tags": []
          },
          "execution_count": 62
        },
        {
          "output_type": "display_data",
          "data": {
            "image/png": "[encoded data removed]",
            "text/plain": [
              "<Figure size 432x288 with 1 Axes>"
            ]
          },
          "metadata": {
            "tags": []
          }
        }
      ]
    },
    {
      "cell_type": "markdown",
      "metadata": {
        "id": "tKMPgBkevGV2",
        "colab_type": "text"
      },
      "source": [
        "The barchart above shows the frequency of the customers based on their type, whether they are returning visitor, new visitor, or other. Most of the customers are returning visitor."
      ]
    },
    {
      "cell_type": "code",
      "metadata": {
        "id": "h-8TuS6ljZQt",
        "colab_type": "code",
        "outputId": "98bedfe9-b6af-4df4-affd-0bd6b1ffcb85",
        "colab": {
          "base_uri": "https://localhost:8080/",
          "height": 301
        }
      },
      "source": [
        "sns.countplot(data['Region'])"
      ],
      "execution_count": 0,
      "outputs": [
        {
          "output_type": "execute_result",
          "data": {
            "text/plain": [
              "<matplotlib.axes._subplots.AxesSubplot at 0x7f5ec8749e48>"
            ]
          },
          "metadata": {
            "tags": []
          },
          "execution_count": 63
        },
        {
          "output_type": "display_data",
          "data": {
            "image/png": "[encoded data removed]",
            "text/plain": [
              "<Figure size 432x288 with 1 Axes>"
            ]
          },
          "metadata": {
            "tags": []
          }
        }
      ]
    },
    {
      "cell_type": "markdown",
      "metadata": {
        "id": "ES5u2rSRvjMd",
        "colab_type": "text"
      },
      "source": [
        "This chart shows the region where the customers are from. Region 1 is the region that has most customers come from, followed by region 3. Meanwhile, region 5, 8, and 9 have the lowest number of customers."
      ]
    },
    {
      "cell_type": "code",
      "metadata": {
        "id": "kkNRwD49jdps",
        "colab_type": "code",
        "outputId": "4c9d02a9-9788-46eb-b216-acb0f0b8f146",
        "colab": {
          "base_uri": "https://localhost:8080/",
          "height": 298
        }
      },
      "source": [
        "sns.countplot(data['Month'])"
      ],
      "execution_count": 0,
      "outputs": [
        {
          "output_type": "execute_result",
          "data": {
            "text/plain": [
              "<matplotlib.axes._subplots.AxesSubplot at 0x7f5ec87cfa90>"
            ]
          },
          "metadata": {
            "tags": []
          },
          "execution_count": 64
        },
        {
          "output_type": "display_data",
          "data": {
            "image/png": "[encoded data removed]",
            "text/plain": [
              "<Figure size 432x288 with 1 Axes>"
            ]
          },
          "metadata": {
            "tags": []
          }
        }
      ]
    },
    {
      "cell_type": "markdown",
      "metadata": {
        "id": "nE6x14B5y27w",
        "colab_type": "text"
      },
      "source": [
        "## Modelling"
      ]
    },
    {
      "cell_type": "markdown",
      "metadata": {
        "id": "m2NFQEQYwixg",
        "colab_type": "text"
      },
      "source": [
        "Next, we create the model for the dataset using Tensorflow library. Since the dependent variable are categorical (Revenue), then the analysis that we used are classification analysis. Here we use Multilayer Perceptron (MLP) architecture for the model. For comparison, we use 2 variation of MLP architecture based on Dropout usage (one who doesn't use Dropout and one who use Dropout with probability 0.2)."
      ]
    },
    {
      "cell_type": "code",
      "metadata": {
        "id": "cbEbx2cDy6fq",
        "colab_type": "code",
        "colab": {}
      },
      "source": [
        "from tensorflow.keras.models import Sequential\n",
        "from tensorflow.keras.layers import Dense\n",
        "from tensorflow.keras.layers import Input\n",
        "from tensorflow.keras.layers import Dropout"
      ],
      "execution_count": 0,
      "outputs": []
    },
    {
      "cell_type": "code",
      "metadata": {
        "id": "jeCWB7D40T15",
        "colab_type": "code",
        "colab": {}
      },
      "source": [
        "from sklearn.model_selection import train_test_split"
      ],
      "execution_count": 0,
      "outputs": []
    },
    {
      "cell_type": "markdown",
      "metadata": {
        "id": "G0i0E5rExQ38",
        "colab_type": "text"
      },
      "source": [
        "First, we have to separate the independent variable with dependent variable for the analysis."
      ]
    },
    {
      "cell_type": "code",
      "metadata": {
        "id": "nJvQ9fi8MnW1",
        "colab_type": "code",
        "colab": {}
      },
      "source": [
        "X=df.drop('Revenue', axis=1)\n",
        "Y=df['Revenue']"
      ],
      "execution_count": 0,
      "outputs": []
    },
    {
      "cell_type": "code",
      "metadata": {
        "id": "suvBTqWDzoFQ",
        "colab_type": "code",
        "outputId": "0126ffbe-8923-4bfe-9b14-5635775b31d5",
        "colab": {
          "base_uri": "https://localhost:8080/",
          "height": 422
        }
      },
      "source": [
        "X"
      ],
      "execution_count": 0,
      "outputs": [
        {
          "output_type": "execute_result",
          "data": {
            "text/html": [
              "<div>\n",
              "<style scoped>\n",
              "    .dataframe tbody tr th:only-of-type {\n",
              "        vertical-align: middle;\n",
              "    }\n",
              "\n",
              "    .dataframe tbody tr th {\n",
              "        vertical-align: top;\n",
              "    }\n",
              "\n",
              "    .dataframe thead th {\n",
              "        text-align: right;\n",
              "    }\n",
              "</style>\n",
              "<table border=\"1\" class=\"dataframe\">\n",
              "  <thead>\n",
              "    <tr style=\"text-align: right;\">\n",
              "      <th></th>\n",
              "      <th>Administrative</th>\n",
              "      <th>Administrative_Duration</th>\n",
              "      <th>Informational</th>\n",
              "      <th>Informational_Duration</th>\n",
              "      <th>ProductRelated</th>\n",
              "      <th>ProductRelated_Duration</th>\n",
              "      <th>BounceRates</th>\n",
              "      <th>ExitRates</th>\n",
              "      <th>PageValues</th>\n",
              "      <th>SpecialDay</th>\n",
              "      <th>OperatingSystems</th>\n",
              "      <th>Browser</th>\n",
              "      <th>Region</th>\n",
              "      <th>TrafficType</th>\n",
              "      <th>Weekend</th>\n",
              "      <th>Month_Aug</th>\n",
              "      <th>Month_Dec</th>\n",
              "      <th>Month_Feb</th>\n",
              "      <th>Month_Jul</th>\n",
              "      <th>Month_June</th>\n",
              "      <th>Month_Mar</th>\n",
              "      <th>Month_May</th>\n",
              "      <th>Month_Nov</th>\n",
              "      <th>Month_Oct</th>\n",
              "      <th>Month_Sep</th>\n",
              "      <th>VisitorType_New_Visitor</th>\n",
              "      <th>VisitorType_Other</th>\n",
              "      <th>VisitorType_Returning_Visitor</th>\n",
              "    </tr>\n",
              "  </thead>\n",
              "  <tbody>\n",
              "    <tr>\n",
              "      <th>0</th>\n",
              "      <td>0.0</td>\n",
              "      <td>0.0</td>\n",
              "      <td>0.0</td>\n",
              "      <td>0.0</td>\n",
              "      <td>1.0</td>\n",
              "      <td>0.000000</td>\n",
              "      <td>0.200000</td>\n",
              "      <td>0.200000</td>\n",
              "      <td>0.000000</td>\n",
              "      <td>0.0</td>\n",
              "      <td>1</td>\n",
              "      <td>1</td>\n",
              "      <td>1</td>\n",
              "      <td>1</td>\n",
              "      <td>0</td>\n",
              "      <td>0</td>\n",
              "      <td>0</td>\n",
              "      <td>1</td>\n",
              "      <td>0</td>\n",
              "      <td>0</td>\n",
              "      <td>0</td>\n",
              "      <td>0</td>\n",
              "      <td>0</td>\n",
              "      <td>0</td>\n",
              "      <td>0</td>\n",
              "      <td>0</td>\n",
              "      <td>0</td>\n",
              "      <td>1</td>\n",
              "    </tr>\n",
              "    <tr>\n",
              "      <th>1</th>\n",
              "      <td>0.0</td>\n",
              "      <td>0.0</td>\n",
              "      <td>0.0</td>\n",
              "      <td>0.0</td>\n",
              "      <td>2.0</td>\n",
              "      <td>64.000000</td>\n",
              "      <td>0.000000</td>\n",
              "      <td>0.100000</td>\n",
              "      <td>0.000000</td>\n",
              "      <td>0.0</td>\n",
              "      <td>2</td>\n",
              "      <td>2</td>\n",
              "      <td>1</td>\n",
              "      <td>2</td>\n",
              "      <td>0</td>\n",
              "      <td>0</td>\n",
              "      <td>0</td>\n",
              "      <td>1</td>\n",
              "      <td>0</td>\n",
              "      <td>0</td>\n",
              "      <td>0</td>\n",
              "      <td>0</td>\n",
              "      <td>0</td>\n",
              "      <td>0</td>\n",
              "      <td>0</td>\n",
              "      <td>0</td>\n",
              "      <td>0</td>\n",
              "      <td>1</td>\n",
              "    </tr>\n",
              "    <tr>\n",
              "      <th>2</th>\n",
              "      <td>0.0</td>\n",
              "      <td>-1.0</td>\n",
              "      <td>0.0</td>\n",
              "      <td>-1.0</td>\n",
              "      <td>1.0</td>\n",
              "      <td>-1.000000</td>\n",
              "      <td>0.200000</td>\n",
              "      <td>0.200000</td>\n",
              "      <td>0.000000</td>\n",
              "      <td>0.0</td>\n",
              "      <td>4</td>\n",
              "      <td>1</td>\n",
              "      <td>9</td>\n",
              "      <td>3</td>\n",
              "      <td>0</td>\n",
              "      <td>0</td>\n",
              "      <td>0</td>\n",
              "      <td>1</td>\n",
              "      <td>0</td>\n",
              "      <td>0</td>\n",
              "      <td>0</td>\n",
              "      <td>0</td>\n",
              "      <td>0</td>\n",
              "      <td>0</td>\n",
              "      <td>0</td>\n",
              "      <td>0</td>\n",
              "      <td>0</td>\n",
              "      <td>1</td>\n",
              "    </tr>\n",
              "    <tr>\n",
              "      <th>3</th>\n",
              "      <td>0.0</td>\n",
              "      <td>0.0</td>\n",
              "      <td>0.0</td>\n",
              "      <td>0.0</td>\n",
              "      <td>2.0</td>\n",
              "      <td>2.666667</td>\n",
              "      <td>0.050000</td>\n",
              "      <td>0.140000</td>\n",
              "      <td>0.000000</td>\n",
              "      <td>0.0</td>\n",
              "      <td>3</td>\n",
              "      <td>2</td>\n",
              "      <td>2</td>\n",
              "      <td>4</td>\n",
              "      <td>0</td>\n",
              "      <td>0</td>\n",
              "      <td>0</td>\n",
              "      <td>1</td>\n",
              "      <td>0</td>\n",
              "      <td>0</td>\n",
              "      <td>0</td>\n",
              "      <td>0</td>\n",
              "      <td>0</td>\n",
              "      <td>0</td>\n",
              "      <td>0</td>\n",
              "      <td>0</td>\n",
              "      <td>0</td>\n",
              "      <td>1</td>\n",
              "    </tr>\n",
              "    <tr>\n",
              "      <th>4</th>\n",
              "      <td>0.0</td>\n",
              "      <td>0.0</td>\n",
              "      <td>0.0</td>\n",
              "      <td>0.0</td>\n",
              "      <td>10.0</td>\n",
              "      <td>627.500000</td>\n",
              "      <td>0.020000</td>\n",
              "      <td>0.050000</td>\n",
              "      <td>0.000000</td>\n",
              "      <td>0.0</td>\n",
              "      <td>3</td>\n",
              "      <td>3</td>\n",
              "      <td>1</td>\n",
              "      <td>4</td>\n",
              "      <td>1</td>\n",
              "      <td>0</td>\n",
              "      <td>0</td>\n",
              "      <td>1</td>\n",
              "      <td>0</td>\n",
              "      <td>0</td>\n",
              "      <td>0</td>\n",
              "      <td>0</td>\n",
              "      <td>0</td>\n",
              "      <td>0</td>\n",
              "      <td>0</td>\n",
              "      <td>0</td>\n",
              "      <td>0</td>\n",
              "      <td>1</td>\n",
              "    </tr>\n",
              "    <tr>\n",
              "      <th>...</th>\n",
              "      <td>...</td>\n",
              "      <td>...</td>\n",
              "      <td>...</td>\n",
              "      <td>...</td>\n",
              "      <td>...</td>\n",
              "      <td>...</td>\n",
              "      <td>...</td>\n",
              "      <td>...</td>\n",
              "      <td>...</td>\n",
              "      <td>...</td>\n",
              "      <td>...</td>\n",
              "      <td>...</td>\n",
              "      <td>...</td>\n",
              "      <td>...</td>\n",
              "      <td>...</td>\n",
              "      <td>...</td>\n",
              "      <td>...</td>\n",
              "      <td>...</td>\n",
              "      <td>...</td>\n",
              "      <td>...</td>\n",
              "      <td>...</td>\n",
              "      <td>...</td>\n",
              "      <td>...</td>\n",
              "      <td>...</td>\n",
              "      <td>...</td>\n",
              "      <td>...</td>\n",
              "      <td>...</td>\n",
              "      <td>...</td>\n",
              "    </tr>\n",
              "    <tr>\n",
              "      <th>12325</th>\n",
              "      <td>3.0</td>\n",
              "      <td>145.0</td>\n",
              "      <td>0.0</td>\n",
              "      <td>0.0</td>\n",
              "      <td>53.0</td>\n",
              "      <td>1783.791667</td>\n",
              "      <td>0.007143</td>\n",
              "      <td>0.029031</td>\n",
              "      <td>12.241717</td>\n",
              "      <td>0.0</td>\n",
              "      <td>4</td>\n",
              "      <td>6</td>\n",
              "      <td>1</td>\n",
              "      <td>1</td>\n",
              "      <td>1</td>\n",
              "      <td>0</td>\n",
              "      <td>1</td>\n",
              "      <td>0</td>\n",
              "      <td>0</td>\n",
              "      <td>0</td>\n",
              "      <td>0</td>\n",
              "      <td>0</td>\n",
              "      <td>0</td>\n",
              "      <td>0</td>\n",
              "      <td>0</td>\n",
              "      <td>0</td>\n",
              "      <td>0</td>\n",
              "      <td>1</td>\n",
              "    </tr>\n",
              "    <tr>\n",
              "      <th>12326</th>\n",
              "      <td>0.0</td>\n",
              "      <td>0.0</td>\n",
              "      <td>0.0</td>\n",
              "      <td>0.0</td>\n",
              "      <td>5.0</td>\n",
              "      <td>465.750000</td>\n",
              "      <td>0.000000</td>\n",
              "      <td>0.021333</td>\n",
              "      <td>0.000000</td>\n",
              "      <td>0.0</td>\n",
              "      <td>3</td>\n",
              "      <td>2</td>\n",
              "      <td>1</td>\n",
              "      <td>8</td>\n",
              "      <td>1</td>\n",
              "      <td>0</td>\n",
              "      <td>0</td>\n",
              "      <td>0</td>\n",
              "      <td>0</td>\n",
              "      <td>0</td>\n",
              "      <td>0</td>\n",
              "      <td>0</td>\n",
              "      <td>1</td>\n",
              "      <td>0</td>\n",
              "      <td>0</td>\n",
              "      <td>0</td>\n",
              "      <td>0</td>\n",
              "      <td>1</td>\n",
              "    </tr>\n",
              "    <tr>\n",
              "      <th>12327</th>\n",
              "      <td>0.0</td>\n",
              "      <td>0.0</td>\n",
              "      <td>0.0</td>\n",
              "      <td>0.0</td>\n",
              "      <td>6.0</td>\n",
              "      <td>184.250000</td>\n",
              "      <td>0.083333</td>\n",
              "      <td>0.086667</td>\n",
              "      <td>0.000000</td>\n",
              "      <td>0.0</td>\n",
              "      <td>3</td>\n",
              "      <td>2</td>\n",
              "      <td>1</td>\n",
              "      <td>13</td>\n",
              "      <td>1</td>\n",
              "      <td>0</td>\n",
              "      <td>0</td>\n",
              "      <td>0</td>\n",
              "      <td>0</td>\n",
              "      <td>0</td>\n",
              "      <td>0</td>\n",
              "      <td>0</td>\n",
              "      <td>1</td>\n",
              "      <td>0</td>\n",
              "      <td>0</td>\n",
              "      <td>0</td>\n",
              "      <td>0</td>\n",
              "      <td>1</td>\n",
              "    </tr>\n",
              "    <tr>\n",
              "      <th>12328</th>\n",
              "      <td>4.0</td>\n",
              "      <td>75.0</td>\n",
              "      <td>0.0</td>\n",
              "      <td>0.0</td>\n",
              "      <td>15.0</td>\n",
              "      <td>346.000000</td>\n",
              "      <td>0.000000</td>\n",
              "      <td>0.021053</td>\n",
              "      <td>0.000000</td>\n",
              "      <td>0.0</td>\n",
              "      <td>2</td>\n",
              "      <td>2</td>\n",
              "      <td>3</td>\n",
              "      <td>11</td>\n",
              "      <td>0</td>\n",
              "      <td>0</td>\n",
              "      <td>0</td>\n",
              "      <td>0</td>\n",
              "      <td>0</td>\n",
              "      <td>0</td>\n",
              "      <td>0</td>\n",
              "      <td>0</td>\n",
              "      <td>1</td>\n",
              "      <td>0</td>\n",
              "      <td>0</td>\n",
              "      <td>0</td>\n",
              "      <td>0</td>\n",
              "      <td>1</td>\n",
              "    </tr>\n",
              "    <tr>\n",
              "      <th>12329</th>\n",
              "      <td>0.0</td>\n",
              "      <td>0.0</td>\n",
              "      <td>0.0</td>\n",
              "      <td>0.0</td>\n",
              "      <td>3.0</td>\n",
              "      <td>21.250000</td>\n",
              "      <td>0.000000</td>\n",
              "      <td>0.066667</td>\n",
              "      <td>0.000000</td>\n",
              "      <td>0.0</td>\n",
              "      <td>3</td>\n",
              "      <td>2</td>\n",
              "      <td>1</td>\n",
              "      <td>2</td>\n",
              "      <td>1</td>\n",
              "      <td>0</td>\n",
              "      <td>0</td>\n",
              "      <td>0</td>\n",
              "      <td>0</td>\n",
              "      <td>0</td>\n",
              "      <td>0</td>\n",
              "      <td>0</td>\n",
              "      <td>1</td>\n",
              "      <td>0</td>\n",
              "      <td>0</td>\n",
              "      <td>1</td>\n",
              "      <td>0</td>\n",
              "      <td>0</td>\n",
              "    </tr>\n",
              "  </tbody>\n",
              "</table>\n",
              "<p>12316 rows × 28 columns</p>\n",
              "</div>"
            ],
            "text/plain": [
              "       Administrative  ...  VisitorType_Returning_Visitor\n",
              "0                 0.0  ...                              1\n",
              "1                 0.0  ...                              1\n",
              "2                 0.0  ...                              1\n",
              "3                 0.0  ...                              1\n",
              "4                 0.0  ...                              1\n",
              "...               ...  ...                            ...\n",
              "12325             3.0  ...                              1\n",
              "12326             0.0  ...                              1\n",
              "12327             0.0  ...                              1\n",
              "12328             4.0  ...                              1\n",
              "12329             0.0  ...                              0\n",
              "\n",
              "[12316 rows x 28 columns]"
            ]
          },
          "metadata": {
            "tags": []
          },
          "execution_count": 21
        }
      ]
    },
    {
      "cell_type": "code",
      "metadata": {
        "id": "ig2z_kF2zrbQ",
        "colab_type": "code",
        "outputId": "0f8b4c15-c792-4de4-8e89-abb77f124229",
        "colab": {
          "base_uri": "https://localhost:8080/",
          "height": 228
        }
      },
      "source": [
        "Y"
      ],
      "execution_count": 0,
      "outputs": [
        {
          "output_type": "execute_result",
          "data": {
            "text/plain": [
              "0        0\n",
              "1        0\n",
              "2        0\n",
              "3        0\n",
              "4        0\n",
              "        ..\n",
              "12325    0\n",
              "12326    0\n",
              "12327    0\n",
              "12328    0\n",
              "12329    0\n",
              "Name: Revenue, Length: 12316, dtype: int64"
            ]
          },
          "metadata": {
            "tags": []
          },
          "execution_count": 22
        }
      ]
    },
    {
      "cell_type": "markdown",
      "metadata": {
        "id": "xU0jJkGtxcTc",
        "colab_type": "text"
      },
      "source": [
        "Next, we split the data into two smaller datasets (train and test data). The purpose of train dataset is to train the model, while the test dataset is to predict the dependent variable based on the model."
      ]
    },
    {
      "cell_type": "code",
      "metadata": {
        "id": "n4xjflWoMm6j",
        "colab_type": "code",
        "colab": {}
      },
      "source": [
        "X_train,X_test,Y_train,Y_test=train_test_split(X,Y,test_size=0.3,random_state=0)"
      ],
      "execution_count": 0,
      "outputs": []
    },
    {
      "cell_type": "markdown",
      "metadata": {
        "id": "6Y4TIHUC-U3I",
        "colab_type": "text"
      },
      "source": [
        "### Model 1"
      ]
    },
    {
      "cell_type": "code",
      "metadata": {
        "id": "8bQBpO1U6KnO",
        "colab_type": "code",
        "colab": {}
      },
      "source": [
        "#network design\n",
        "model = Sequential()\n",
        "model.add(Input(shape=(28,)))\n",
        "model.add(Dense(50,activation=\"relu\"))\n",
        "model.add(Dense(20,activation=\"relu\"))\n",
        "model.add(Dense(10,activation=\"relu\"))\n",
        "model.add(Dense(5,activation=\"relu\"))\n",
        "model.add(Dense(1,activation=\"sigmoid\"))\n",
        "model.compile(optimizer='adam',loss='binary_crossentropy',metrics=['accuracy'])"
      ],
      "execution_count": 0,
      "outputs": []
    },
    {
      "cell_type": "code",
      "metadata": {
        "id": "VMjsam9X6KHs",
        "colab_type": "code",
        "outputId": "8ebc0c03-1258-48a0-ac8e-54c4fab67138",
        "colab": {
          "base_uri": "https://localhost:8080/",
          "height": 334
        }
      },
      "source": [
        "model.summary()"
      ],
      "execution_count": 0,
      "outputs": [
        {
          "output_type": "stream",
          "text": [
            "Model: \"sequential\"\n",
            "_________________________________________________________________\n",
            "Layer (type)                 Output Shape              Param #   \n",
            "=================================================================\n",
            "dense (Dense)                (None, 50)                1450      \n",
            "_________________________________________________________________\n",
            "dense_1 (Dense)              (None, 20)                1020      \n",
            "_________________________________________________________________\n",
            "dense_2 (Dense)              (None, 10)                210       \n",
            "_________________________________________________________________\n",
            "dense_3 (Dense)              (None, 5)                 55        \n",
            "_________________________________________________________________\n",
            "dense_4 (Dense)              (None, 1)                 6         \n",
            "=================================================================\n",
            "Total params: 2,741\n",
            "Trainable params: 2,741\n",
            "Non-trainable params: 0\n",
            "_________________________________________________________________\n"
          ],
          "name": "stdout"
        }
      ]
    },
    {
      "cell_type": "code",
      "metadata": {
        "id": "o47TjIw2-EDA",
        "colab_type": "code",
        "outputId": "821bbe95-5b46-432c-f9f9-323a00e59999",
        "colab": {
          "base_uri": "https://localhost:8080/",
          "height": 644
        }
      },
      "source": [
        "from tensorflow.keras.utils import plot_model\n",
        "plot_model(model, show_shapes=True, show_layer_names=True, expand_nested=True)"
      ],
      "execution_count": 0,
      "outputs": [
        {
          "output_type": "execute_result",
          "data": {
            "image/png": "[encoded data removed]",
            "text/plain": [
              "<IPython.core.display.Image object>"
            ]
          },
          "metadata": {
            "tags": []
          },
          "execution_count": 26
        }
      ]
    },
    {
      "cell_type": "code",
      "metadata": {
        "id": "6hN_0krO__sQ",
        "colab_type": "code",
        "outputId": "1f0e9005-1c25-4c5f-d478-6425c06a9429",
        "colab": {
          "base_uri": "https://localhost:8080/",
          "height": 1000
        }
      },
      "source": [
        "history = model.fit(X_train, Y_train, batch_size=1, epochs=30, validation_data=(X_test,Y_test))"
      ],
      "execution_count": 0,
      "outputs": [
        {
          "output_type": "stream",
          "text": [
            "Epoch 1/30\n",
            "8621/8621 [==============================] - 15s 2ms/step - loss: 1.6256 - accuracy: 0.8277 - val_loss: 0.4120 - val_accuracy: 0.8585\n",
            "Epoch 2/30\n",
            "8621/8621 [==============================] - 15s 2ms/step - loss: 0.4196 - accuracy: 0.8547 - val_loss: 0.3901 - val_accuracy: 0.8579\n",
            "Epoch 3/30\n",
            "8621/8621 [==============================] - 15s 2ms/step - loss: 0.4154 - accuracy: 0.8636 - val_loss: 0.3819 - val_accuracy: 0.8709\n",
            "Epoch 4/30\n",
            "8621/8621 [==============================] - 15s 2ms/step - loss: 0.3641 - accuracy: 0.8680 - val_loss: 0.3156 - val_accuracy: 0.8812\n",
            "Epoch 5/30\n",
            "8621/8621 [==============================] - 15s 2ms/step - loss: 0.3340 - accuracy: 0.8725 - val_loss: 0.3303 - val_accuracy: 0.8739\n",
            "Epoch 6/30\n",
            "8621/8621 [==============================] - 15s 2ms/step - loss: 0.3231 - accuracy: 0.8757 - val_loss: 0.3091 - val_accuracy: 0.8728\n",
            "Epoch 7/30\n",
            "8621/8621 [==============================] - 14s 2ms/step - loss: 0.3161 - accuracy: 0.8769 - val_loss: 0.3390 - val_accuracy: 0.8566\n",
            "Epoch 8/30\n",
            "8621/8621 [==============================] - 15s 2ms/step - loss: 0.3111 - accuracy: 0.8772 - val_loss: 0.2821 - val_accuracy: 0.8934\n",
            "Epoch 9/30\n",
            "8621/8621 [==============================] - 15s 2ms/step - loss: 0.3058 - accuracy: 0.8799 - val_loss: 0.2878 - val_accuracy: 0.8815\n",
            "Epoch 10/30\n",
            "8621/8621 [==============================] - 15s 2ms/step - loss: 0.3042 - accuracy: 0.8801 - val_loss: 0.2785 - val_accuracy: 0.8742\n",
            "Epoch 11/30\n",
            "8621/8621 [==============================] - 15s 2ms/step - loss: 0.3088 - accuracy: 0.8750 - val_loss: 0.2736 - val_accuracy: 0.8977\n",
            "Epoch 12/30\n",
            "8621/8621 [==============================] - 15s 2ms/step - loss: 0.3018 - accuracy: 0.8752 - val_loss: 0.2899 - val_accuracy: 0.8931\n",
            "Epoch 13/30\n",
            "8621/8621 [==============================] - 15s 2ms/step - loss: 0.2823 - accuracy: 0.8847 - val_loss: 0.2796 - val_accuracy: 0.8901\n",
            "Epoch 14/30\n",
            "8621/8621 [==============================] - 15s 2ms/step - loss: 0.2870 - accuracy: 0.8837 - val_loss: 0.2650 - val_accuracy: 0.8936\n",
            "Epoch 15/30\n",
            "8621/8621 [==============================] - 15s 2ms/step - loss: 0.2781 - accuracy: 0.8849 - val_loss: 0.2819 - val_accuracy: 0.8736\n",
            "Epoch 16/30\n",
            "8621/8621 [==============================] - 15s 2ms/step - loss: 0.3117 - accuracy: 0.8832 - val_loss: 0.2795 - val_accuracy: 0.8874\n",
            "Epoch 17/30\n",
            "8621/8621 [==============================] - 16s 2ms/step - loss: 0.2736 - accuracy: 0.8860 - val_loss: 0.2679 - val_accuracy: 0.8882\n",
            "Epoch 18/30\n",
            "8621/8621 [==============================] - 15s 2ms/step - loss: 0.2787 - accuracy: 0.8869 - val_loss: 0.2604 - val_accuracy: 0.8798\n",
            "Epoch 19/30\n",
            "8621/8621 [==============================] - 15s 2ms/step - loss: 0.2807 - accuracy: 0.8795 - val_loss: 0.2563 - val_accuracy: 0.8882\n",
            "Epoch 20/30\n",
            "8621/8621 [==============================] - 15s 2ms/step - loss: 0.2776 - accuracy: 0.8819 - val_loss: 0.2593 - val_accuracy: 0.8945\n",
            "Epoch 21/30\n",
            "8621/8621 [==============================] - 15s 2ms/step - loss: 0.2709 - accuracy: 0.8850 - val_loss: 0.2613 - val_accuracy: 0.8858\n",
            "Epoch 22/30\n",
            "8621/8621 [==============================] - 15s 2ms/step - loss: 0.2700 - accuracy: 0.8874 - val_loss: 0.2543 - val_accuracy: 0.8963\n",
            "Epoch 23/30\n",
            "8621/8621 [==============================] - 15s 2ms/step - loss: 0.2716 - accuracy: 0.8855 - val_loss: 0.2954 - val_accuracy: 0.8769\n",
            "Epoch 24/30\n",
            "8621/8621 [==============================] - 15s 2ms/step - loss: 0.2685 - accuracy: 0.8846 - val_loss: 0.2644 - val_accuracy: 0.8947\n",
            "Epoch 25/30\n",
            "8621/8621 [==============================] - 15s 2ms/step - loss: 0.2813 - accuracy: 0.8878 - val_loss: 0.2469 - val_accuracy: 0.9007\n",
            "Epoch 26/30\n",
            "8621/8621 [==============================] - 15s 2ms/step - loss: 0.2718 - accuracy: 0.8821 - val_loss: 0.2754 - val_accuracy: 0.8985\n",
            "Epoch 27/30\n",
            "8621/8621 [==============================] - 14s 2ms/step - loss: 0.2662 - accuracy: 0.8896 - val_loss: 0.2701 - val_accuracy: 0.8655\n",
            "Epoch 28/30\n",
            "8621/8621 [==============================] - 15s 2ms/step - loss: 0.2695 - accuracy: 0.8856 - val_loss: 0.2777 - val_accuracy: 0.8739\n",
            "Epoch 29/30\n",
            "8621/8621 [==============================] - 15s 2ms/step - loss: 0.2740 - accuracy: 0.8879 - val_loss: 0.2498 - val_accuracy: 0.8947\n",
            "Epoch 30/30\n",
            "8621/8621 [==============================] - 15s 2ms/step - loss: 0.2768 - accuracy: 0.8885 - val_loss: 0.2635 - val_accuracy: 0.8812\n"
          ],
          "name": "stdout"
        }
      ]
    },
    {
      "cell_type": "code",
      "metadata": {
        "id": "VtIoYjnLPG85",
        "colab_type": "code",
        "outputId": "34327795-04fa-4346-8805-3a6cebe0b141",
        "colab": {
          "base_uri": "https://localhost:8080/",
          "height": 281
        }
      },
      "source": [
        "plt.plot(history.history['loss'], label='train')\n",
        "plt.plot(history.history['val_loss'], label='test')\n",
        "plt.title(\"Train Loss\")\n",
        "plt.legend()\n",
        "plt.show()"
      ],
      "execution_count": 0,
      "outputs": [
        {
          "output_type": "display_data",
          "data": {
            "image/png": "[encoded data removed]",
            "text/plain": [
              "<Figure size 432x288 with 1 Axes>"
            ]
          },
          "metadata": {
            "tags": []
          }
        }
      ]
    },
    {
      "cell_type": "code",
      "metadata": {
        "id": "HHZuflSXUuo_",
        "colab_type": "code",
        "outputId": "4013ec50-87cc-42e6-f1d4-57341a2a7460",
        "colab": {
          "base_uri": "https://localhost:8080/",
          "height": 281
        }
      },
      "source": [
        "plt.plot(history.history['accuracy'], label='train')\n",
        "plt.plot(history.history['val_accuracy'], label='test')\n",
        "plt.title(\"Train Accuracy\")\n",
        "plt.legend()\n",
        "plt.show()"
      ],
      "execution_count": 0,
      "outputs": [
        {
          "output_type": "display_data",
          "data": {
            "image/png": "[encoded data removed]",
            "text/plain": [
              "<Figure size 432x288 with 1 Axes>"
            ]
          },
          "metadata": {
            "tags": []
          }
        }
      ]
    },
    {
      "cell_type": "markdown",
      "metadata": {
        "id": "KjJWksRxx5Os",
        "colab_type": "text"
      },
      "source": [
        "From the first model, we find out that the loss value are decreasing and converges at 0.2768. For the accuracy, we can see that the accuracy on training data are 88.85% while on the test data are 88.12%."
      ]
    },
    {
      "cell_type": "markdown",
      "metadata": {
        "id": "mH-qdtQ2-XBz",
        "colab_type": "text"
      },
      "source": [
        "### Model 2"
      ]
    },
    {
      "cell_type": "code",
      "metadata": {
        "id": "Twv188Ci-QhJ",
        "colab_type": "code",
        "colab": {}
      },
      "source": [
        "#network design\n",
        "model2 = Sequential()\n",
        "model2.add(Input(shape=(28,)))\n",
        "model2.add(Dense(50,activation=\"relu\"))\n",
        "model2.add(Dropout(0.2))\n",
        "model2.add(Dense(20,activation=\"relu\"))\n",
        "model2.add(Dense(10,activation=\"relu\"))\n",
        "model2.add(Dense(5,activation=\"relu\"))\n",
        "model2.add(Dense(1,activation=\"sigmoid\"))\n",
        "model2.compile(optimizer='adam',loss='binary_crossentropy',metrics=['accuracy'])"
      ],
      "execution_count": 0,
      "outputs": []
    },
    {
      "cell_type": "code",
      "metadata": {
        "id": "qqI_kY2c-g7a",
        "colab_type": "code",
        "outputId": "d8a641d2-7df6-4e47-d659-0ffb16cac101",
        "colab": {
          "base_uri": "https://localhost:8080/",
          "height": 369
        }
      },
      "source": [
        "model2.summary()"
      ],
      "execution_count": 0,
      "outputs": [
        {
          "output_type": "stream",
          "text": [
            "Model: \"sequential_1\"\n",
            "_________________________________________________________________\n",
            "Layer (type)                 Output Shape              Param #   \n",
            "=================================================================\n",
            "dense_5 (Dense)              (None, 50)                1450      \n",
            "_________________________________________________________________\n",
            "dropout (Dropout)            (None, 50)                0         \n",
            "_________________________________________________________________\n",
            "dense_6 (Dense)              (None, 20)                1020      \n",
            "_________________________________________________________________\n",
            "dense_7 (Dense)              (None, 10)                210       \n",
            "_________________________________________________________________\n",
            "dense_8 (Dense)              (None, 5)                 55        \n",
            "_________________________________________________________________\n",
            "dense_9 (Dense)              (None, 1)                 6         \n",
            "=================================================================\n",
            "Total params: 2,741\n",
            "Trainable params: 2,741\n",
            "Non-trainable params: 0\n",
            "_________________________________________________________________\n"
          ],
          "name": "stdout"
        }
      ]
    },
    {
      "cell_type": "code",
      "metadata": {
        "id": "S66I4KPP-gvo",
        "colab_type": "code",
        "outputId": "fdab94c9-8d00-4af5-9b53-bf7a0ccd7fb3",
        "colab": {
          "base_uri": "https://localhost:8080/",
          "height": 754
        }
      },
      "source": [
        "plot_model(model2, show_shapes=True, show_layer_names=True, expand_nested=True)"
      ],
      "execution_count": 0,
      "outputs": [
        {
          "output_type": "execute_result",
          "data": {
            "image/png": "[encoded data removed]",
            "text/plain": [
              "<IPython.core.display.Image object>"
            ]
          },
          "metadata": {
            "tags": []
          },
          "execution_count": 32
        }
      ]
    },
    {
      "cell_type": "code",
      "metadata": {
        "id": "SAkGKXbIE4ly",
        "colab_type": "code",
        "outputId": "8ba73ac5-e08b-47cc-8794-d766489a6e8b",
        "colab": {
          "base_uri": "https://localhost:8080/",
          "height": 1000
        }
      },
      "source": [
        "history2 = model2.fit(X_train, Y_train, batch_size=1, epochs=30, validation_data=(X_test,Y_test))"
      ],
      "execution_count": 0,
      "outputs": [
        {
          "output_type": "stream",
          "text": [
            "Epoch 1/30\n",
            "8621/8621 [==============================] - 15s 2ms/step - loss: 0.5206 - accuracy: 0.8325 - val_loss: 0.4067 - val_accuracy: 0.8476\n",
            "Epoch 2/30\n",
            "8621/8621 [==============================] - 15s 2ms/step - loss: 0.4269 - accuracy: 0.8439 - val_loss: 0.3973 - val_accuracy: 0.8476\n",
            "Epoch 3/30\n",
            "8621/8621 [==============================] - 15s 2ms/step - loss: 0.4216 - accuracy: 0.8440 - val_loss: 0.4003 - val_accuracy: 0.8476\n",
            "Epoch 4/30\n",
            "8621/8621 [==============================] - 15s 2ms/step - loss: 0.4095 - accuracy: 0.8440 - val_loss: 0.3989 - val_accuracy: 0.8476\n",
            "Epoch 5/30\n",
            "8621/8621 [==============================] - 15s 2ms/step - loss: 0.4018 - accuracy: 0.8438 - val_loss: 0.3821 - val_accuracy: 0.8476\n",
            "Epoch 6/30\n",
            "8621/8621 [==============================] - 15s 2ms/step - loss: 0.3950 - accuracy: 0.8440 - val_loss: 0.3791 - val_accuracy: 0.8476\n",
            "Epoch 7/30\n",
            "8621/8621 [==============================] - 16s 2ms/step - loss: 0.3773 - accuracy: 0.8439 - val_loss: 0.3424 - val_accuracy: 0.8476\n",
            "Epoch 8/30\n",
            "8621/8621 [==============================] - 16s 2ms/step - loss: 0.3620 - accuracy: 0.8440 - val_loss: 0.3191 - val_accuracy: 0.8476\n",
            "Epoch 9/30\n",
            "8621/8621 [==============================] - 15s 2ms/step - loss: 0.3500 - accuracy: 0.8440 - val_loss: 0.3404 - val_accuracy: 0.8476\n",
            "Epoch 10/30\n",
            "8621/8621 [==============================] - 15s 2ms/step - loss: 0.3367 - accuracy: 0.8440 - val_loss: 0.2972 - val_accuracy: 0.8476\n",
            "Epoch 11/30\n",
            "8621/8621 [==============================] - 15s 2ms/step - loss: 0.3276 - accuracy: 0.8440 - val_loss: 0.3329 - val_accuracy: 0.8476\n",
            "Epoch 12/30\n",
            "8621/8621 [==============================] - 15s 2ms/step - loss: 0.3212 - accuracy: 0.8440 - val_loss: 0.2796 - val_accuracy: 0.8476\n",
            "Epoch 13/30\n",
            "8621/8621 [==============================] - 15s 2ms/step - loss: 0.3125 - accuracy: 0.8439 - val_loss: 0.2969 - val_accuracy: 0.8476\n",
            "Epoch 14/30\n",
            "8621/8621 [==============================] - 15s 2ms/step - loss: 0.3122 - accuracy: 0.8491 - val_loss: 0.2866 - val_accuracy: 0.8476\n",
            "Epoch 15/30\n",
            "8621/8621 [==============================] - 15s 2ms/step - loss: 0.3023 - accuracy: 0.8722 - val_loss: 0.3404 - val_accuracy: 0.8890\n",
            "Epoch 16/30\n",
            "8621/8621 [==============================] - 15s 2ms/step - loss: 0.3001 - accuracy: 0.8781 - val_loss: 0.2678 - val_accuracy: 0.8947\n",
            "Epoch 17/30\n",
            "8621/8621 [==============================] - 16s 2ms/step - loss: 0.3059 - accuracy: 0.8768 - val_loss: 0.2645 - val_accuracy: 0.8950\n",
            "Epoch 18/30\n",
            "8621/8621 [==============================] - 16s 2ms/step - loss: 0.2899 - accuracy: 0.8883 - val_loss: 0.2849 - val_accuracy: 0.8928\n",
            "Epoch 19/30\n",
            "8621/8621 [==============================] - 15s 2ms/step - loss: 0.2935 - accuracy: 0.8784 - val_loss: 0.2712 - val_accuracy: 0.8877\n",
            "Epoch 20/30\n",
            "8621/8621 [==============================] - 15s 2ms/step - loss: 0.2992 - accuracy: 0.8811 - val_loss: 0.2864 - val_accuracy: 0.8961\n",
            "Epoch 21/30\n",
            "8621/8621 [==============================] - 15s 2ms/step - loss: 0.2945 - accuracy: 0.8803 - val_loss: 0.3141 - val_accuracy: 0.8257\n",
            "Epoch 22/30\n",
            "8621/8621 [==============================] - 15s 2ms/step - loss: 0.2948 - accuracy: 0.8788 - val_loss: 0.2803 - val_accuracy: 0.8947\n",
            "Epoch 23/30\n",
            "8621/8621 [==============================] - 16s 2ms/step - loss: 0.2900 - accuracy: 0.8882 - val_loss: 0.2669 - val_accuracy: 0.8923\n",
            "Epoch 24/30\n",
            "8621/8621 [==============================] - 15s 2ms/step - loss: 0.2908 - accuracy: 0.8831 - val_loss: 0.2855 - val_accuracy: 0.8785\n",
            "Epoch 25/30\n",
            "8621/8621 [==============================] - 15s 2ms/step - loss: 0.2899 - accuracy: 0.8752 - val_loss: 0.2644 - val_accuracy: 0.8931\n",
            "Epoch 26/30\n",
            "8621/8621 [==============================] - 15s 2ms/step - loss: 0.3137 - accuracy: 0.8485 - val_loss: 0.2770 - val_accuracy: 0.8476\n",
            "Epoch 27/30\n",
            "8621/8621 [==============================] - 15s 2ms/step - loss: 0.3011 - accuracy: 0.8697 - val_loss: 0.2701 - val_accuracy: 0.8939\n",
            "Epoch 28/30\n",
            "8621/8621 [==============================] - 16s 2ms/step - loss: 0.2953 - accuracy: 0.8895 - val_loss: 0.2768 - val_accuracy: 0.8961\n",
            "Epoch 29/30\n",
            "8621/8621 [==============================] - 15s 2ms/step - loss: 0.2890 - accuracy: 0.8906 - val_loss: 0.2761 - val_accuracy: 0.8963\n",
            "Epoch 30/30\n",
            "8621/8621 [==============================] - 15s 2ms/step - loss: 0.2878 - accuracy: 0.8898 - val_loss: 0.2706 - val_accuracy: 0.8958\n"
          ],
          "name": "stdout"
        }
      ]
    },
    {
      "cell_type": "code",
      "metadata": {
        "id": "XnNpKX_nVKhg",
        "colab_type": "code",
        "outputId": "920f43a8-c671-44c7-ba70-85b2c78b9303",
        "colab": {
          "base_uri": "https://localhost:8080/",
          "height": 281
        }
      },
      "source": [
        "plt.plot(history2.history['loss'], label='train')\n",
        "plt.plot(history2.history['val_loss'], label='test')\n",
        "plt.title(\"Train Loss\")\n",
        "plt.legend()\n",
        "plt.show()"
      ],
      "execution_count": 0,
      "outputs": [
        {
          "output_type": "display_data",
          "data": {
            "image/png": "[encoded data removed]",
            "text/plain": [
              "<Figure size 432x288 with 1 Axes>"
            ]
          },
          "metadata": {
            "tags": []
          }
        }
      ]
    },
    {
      "cell_type": "code",
      "metadata": {
        "id": "EzYi3LFgVKuS",
        "colab_type": "code",
        "outputId": "a539d0f1-8439-4946-d0c4-3afc7ac241a8",
        "colab": {
          "base_uri": "https://localhost:8080/",
          "height": 281
        }
      },
      "source": [
        "plt.plot(history2.history['accuracy'], label='train')\n",
        "plt.plot(history2.history['val_accuracy'], label='test')\n",
        "plt.title(\"Train Accuracy\")\n",
        "plt.legend()\n",
        "plt.show()"
      ],
      "execution_count": 0,
      "outputs": [
        {
          "output_type": "display_data",
          "data": {
            "image/png": "[encoded data removed]",
            "text/plain": [
              "<Figure size 432x288 with 1 Axes>"
            ]
          },
          "metadata": {
            "tags": []
          }
        }
      ]
    },
    {
      "cell_type": "markdown",
      "metadata": {
        "id": "bnAGrBMByzPe",
        "colab_type": "text"
      },
      "source": [
        "From the second model, we find out that the loss value are decreasing and converges at 0.2878. For the accuracy, we can see that the accuracy on training data are 88.98% while on the test data are 89.58%. Although the loss value are slightly greater than the first model, the accuracy that produced from the second model are greater than the first model, which means that this model (Model 2) performs better than Model 1."
      ]
    },
    {
      "cell_type": "markdown",
      "metadata": {
        "id": "NquXceLIzNqI",
        "colab_type": "text"
      },
      "source": [
        "## Conclussion"
      ]
    },
    {
      "cell_type": "markdown",
      "metadata": {
        "id": "vuxkxB0nzPbE",
        "colab_type": "text"
      },
      "source": [
        "From the analysis that we conducted above, we can write some conclussion below :\n",
        "\n",
        "- Most of the customers ended up did not purchase anything. Only 15.49% of the customers ended up purchasing something.\n",
        "- The Dropout layer on the MLP architecture (Model 2) affect the model to perform better than the model that did not use Dropout layer.\n",
        "\n",
        "Then, the recommendation that we can give to the Online Shop stakeholder are follows.\n",
        "\n",
        "- We know that most of the customers ended up did not purchase anything. To increase the proportion of purchasing customers, the online shop can give some promo or discount for some products or in specific times, like Black Friday, National Online Shopping day (Harbolnas in Indonesia), Holidays, etc. And also, we also know that most of the online shop customers are the returning visitor. From the recommendation above, we can also increase the customer loyalty (and make new customers) so the revenue for the online shop can be increased."
      ]
    }
  ]
}